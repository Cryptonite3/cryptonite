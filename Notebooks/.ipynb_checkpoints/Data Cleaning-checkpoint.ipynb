{
 "cells": [
  {
   "cell_type": "code",
   "execution_count": 1,
   "id": "ef0e533b",
   "metadata": {},
   "outputs": [],
   "source": [
    "import pandas as pd"
   ]
  },
  {
   "cell_type": "code",
   "execution_count": 2,
   "id": "92e8b402",
   "metadata": {},
   "outputs": [],
   "source": [
    "df = pd.read_csv('../data/all_currencies_table.csv')"
   ]
  },
  {
   "cell_type": "code",
   "execution_count": 3,
   "id": "7fc1485c",
   "metadata": {},
   "outputs": [
    {
     "data": {
      "text/html": [
       "<div>\n",
       "<style scoped>\n",
       "    .dataframe tbody tr th:only-of-type {\n",
       "        vertical-align: middle;\n",
       "    }\n",
       "\n",
       "    .dataframe tbody tr th {\n",
       "        vertical-align: top;\n",
       "    }\n",
       "\n",
       "    .dataframe thead th {\n",
       "        text-align: right;\n",
       "    }\n",
       "</style>\n",
       "<table border=\"1\" class=\"dataframe\">\n",
       "  <thead>\n",
       "    <tr style=\"text-align: right;\">\n",
       "      <th></th>\n",
       "      <th>number</th>\n",
       "      <th>name</th>\n",
       "      <th>symbol</th>\n",
       "      <th>market_cap</th>\n",
       "      <th>price</th>\n",
       "      <th>circulating_supply</th>\n",
       "      <th>volume_24hr</th>\n",
       "      <th>1h</th>\n",
       "      <th>24h</th>\n",
       "      <th>7d</th>\n",
       "    </tr>\n",
       "  </thead>\n",
       "  <tbody>\n",
       "    <tr>\n",
       "      <th>0</th>\n",
       "      <td>1</td>\n",
       "      <td>Bitcoin</td>\n",
       "      <td>BTC</td>\n",
       "      <td>1.507030e+11</td>\n",
       "      <td>8940.740000</td>\n",
       "      <td>1.685576e+07</td>\n",
       "      <td>8.103300e+09</td>\n",
       "      <td>-0.63</td>\n",
       "      <td>11.22</td>\n",
       "      <td>3.58</td>\n",
       "    </tr>\n",
       "    <tr>\n",
       "      <th>1</th>\n",
       "      <td>2</td>\n",
       "      <td>Ethereum</td>\n",
       "      <td>ETH</td>\n",
       "      <td>8.754697e+10</td>\n",
       "      <td>897.729000</td>\n",
       "      <td>9.752049e+07</td>\n",
       "      <td>3.062570e+09</td>\n",
       "      <td>-0.41</td>\n",
       "      <td>11.99</td>\n",
       "      <td>-0.25</td>\n",
       "    </tr>\n",
       "    <tr>\n",
       "      <th>2</th>\n",
       "      <td>3</td>\n",
       "      <td>Ripple</td>\n",
       "      <td>XRP</td>\n",
       "      <td>4.062771e+10</td>\n",
       "      <td>1.041490</td>\n",
       "      <td>3.900922e+10</td>\n",
       "      <td>2.504810e+09</td>\n",
       "      <td>-0.37</td>\n",
       "      <td>32.86</td>\n",
       "      <td>23.94</td>\n",
       "    </tr>\n",
       "    <tr>\n",
       "      <th>3</th>\n",
       "      <td>4</td>\n",
       "      <td>Bitcoin Cash</td>\n",
       "      <td>BCH</td>\n",
       "      <td>2.294639e+10</td>\n",
       "      <td>1353.040000</td>\n",
       "      <td>1.695914e+07</td>\n",
       "      <td>1.149550e+09</td>\n",
       "      <td>0.11</td>\n",
       "      <td>7.89</td>\n",
       "      <td>18.32</td>\n",
       "    </tr>\n",
       "    <tr>\n",
       "      <th>4</th>\n",
       "      <td>5</td>\n",
       "      <td>Cardano</td>\n",
       "      <td>ADA</td>\n",
       "      <td>1.163729e+10</td>\n",
       "      <td>0.448847</td>\n",
       "      <td>2.592707e+10</td>\n",
       "      <td>7.603720e+08</td>\n",
       "      <td>-0.71</td>\n",
       "      <td>27.62</td>\n",
       "      <td>23.61</td>\n",
       "    </tr>\n",
       "  </tbody>\n",
       "</table>\n",
       "</div>"
      ],
      "text/plain": [
       "   number          name symbol    market_cap        price  circulating_supply  \\\n",
       "0       1       Bitcoin    BTC  1.507030e+11  8940.740000        1.685576e+07   \n",
       "1       2      Ethereum    ETH  8.754697e+10   897.729000        9.752049e+07   \n",
       "2       3        Ripple    XRP  4.062771e+10     1.041490        3.900922e+10   \n",
       "3       4  Bitcoin Cash    BCH  2.294639e+10  1353.040000        1.695914e+07   \n",
       "4       5       Cardano    ADA  1.163729e+10     0.448847        2.592707e+10   \n",
       "\n",
       "    volume_24hr    1h    24h     7d  \n",
       "0  8.103300e+09 -0.63  11.22   3.58  \n",
       "1  3.062570e+09 -0.41  11.99  -0.25  \n",
       "2  2.504810e+09 -0.37  32.86  23.94  \n",
       "3  1.149550e+09  0.11   7.89  18.32  \n",
       "4  7.603720e+08 -0.71  27.62  23.61  "
      ]
     },
     "execution_count": 3,
     "metadata": {},
     "output_type": "execute_result"
    }
   ],
   "source": [
    "df.head()"
   ]
  },
  {
   "cell_type": "code",
   "execution_count": null,
   "id": "ea05f608",
   "metadata": {},
   "outputs": [],
   "source": []
  }
 ],
 "metadata": {
  "hide_input": false,
  "kernelspec": {
   "display_name": "Python 3",
   "language": "python",
   "name": "python3"
  },
  "language_info": {
   "codemirror_mode": {
    "name": "ipython",
    "version": 3
   },
   "file_extension": ".py",
   "mimetype": "text/x-python",
   "name": "python",
   "nbconvert_exporter": "python",
   "pygments_lexer": "ipython3",
   "version": "3.8.8"
  },
  "latex_envs": {
   "LaTeX_envs_menu_present": true,
   "autoclose": false,
   "autocomplete": true,
   "bibliofile": "biblio.bib",
   "cite_by": "apalike",
   "current_citInitial": 1,
   "eqLabelWithNumbers": true,
   "eqNumInitial": 1,
   "hotkeys": {
    "equation": "Ctrl-E",
    "itemize": "Ctrl-I"
   },
   "labels_anchors": false,
   "latex_user_defs": false,
   "report_style_numbering": false,
   "user_envs_cfg": false
  },
  "varInspector": {
   "cols": {
    "lenName": 16,
    "lenType": 16,
    "lenVar": 40
   },
   "kernels_config": {
    "python": {
     "delete_cmd_postfix": "",
     "delete_cmd_prefix": "del ",
     "library": "var_list.py",
     "varRefreshCmd": "print(var_dic_list())"
    },
    "r": {
     "delete_cmd_postfix": ") ",
     "delete_cmd_prefix": "rm(",
     "library": "var_list.r",
     "varRefreshCmd": "cat(var_dic_list()) "
    }
   },
   "types_to_exclude": [
    "module",
    "function",
    "builtin_function_or_method",
    "instance",
    "_Feature"
   ],
   "window_display": false
  }
 },
 "nbformat": 4,
 "nbformat_minor": 5
}
