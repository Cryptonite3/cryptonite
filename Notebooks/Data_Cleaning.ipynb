{
 "cells": [
  {
   "cell_type": "markdown",
   "id": "4d5743e6",
   "metadata": {},
   "source": [
    "# Data Cleaning"
   ]
  },
  {
   "cell_type": "code",
   "execution_count": 1,
   "id": "d87ff9d2",
   "metadata": {},
   "outputs": [],
   "source": [
    "# Importing necessary libraries\n",
    "import pandas as pd\n",
    "import missingno as msno\n",
    "import matplotlib.pyplot as plt\n",
    "plt.style.use('dark_background')"
   ]
  },
  {
   "cell_type": "markdown",
   "id": "ea63959e",
   "metadata": {},
   "source": [
    "## All currencies dataset"
   ]
  },
  {
   "cell_type": "code",
   "execution_count": 2,
   "id": "9637ec42",
   "metadata": {},
   "outputs": [
    {
     "data": {
      "text/html": [
       "<div>\n",
       "<style scoped>\n",
       "    .dataframe tbody tr th:only-of-type {\n",
       "        vertical-align: middle;\n",
       "    }\n",
       "\n",
       "    .dataframe tbody tr th {\n",
       "        vertical-align: top;\n",
       "    }\n",
       "\n",
       "    .dataframe thead th {\n",
       "        text-align: right;\n",
       "    }\n",
       "</style>\n",
       "<table border=\"1\" class=\"dataframe\">\n",
       "  <thead>\n",
       "    <tr style=\"text-align: right;\">\n",
       "      <th></th>\n",
       "      <th>name</th>\n",
       "      <th>symbol</th>\n",
       "      <th>market_cap</th>\n",
       "      <th>price</th>\n",
       "      <th>circulating_supply</th>\n",
       "      <th>volume_24hr</th>\n",
       "      <th>1h</th>\n",
       "      <th>24h</th>\n",
       "      <th>7d</th>\n",
       "    </tr>\n",
       "    <tr>\n",
       "      <th>number</th>\n",
       "      <th></th>\n",
       "      <th></th>\n",
       "      <th></th>\n",
       "      <th></th>\n",
       "      <th></th>\n",
       "      <th></th>\n",
       "      <th></th>\n",
       "      <th></th>\n",
       "      <th></th>\n",
       "    </tr>\n",
       "  </thead>\n",
       "  <tbody>\n",
       "    <tr>\n",
       "      <th>1</th>\n",
       "      <td>Bitcoin</td>\n",
       "      <td>BTC</td>\n",
       "      <td>1.507030e+11</td>\n",
       "      <td>8940.740000</td>\n",
       "      <td>1.685576e+07</td>\n",
       "      <td>8.103300e+09</td>\n",
       "      <td>-0.63</td>\n",
       "      <td>11.22</td>\n",
       "      <td>3.58</td>\n",
       "    </tr>\n",
       "    <tr>\n",
       "      <th>2</th>\n",
       "      <td>Ethereum</td>\n",
       "      <td>ETH</td>\n",
       "      <td>8.754697e+10</td>\n",
       "      <td>897.729000</td>\n",
       "      <td>9.752049e+07</td>\n",
       "      <td>3.062570e+09</td>\n",
       "      <td>-0.41</td>\n",
       "      <td>11.99</td>\n",
       "      <td>-0.25</td>\n",
       "    </tr>\n",
       "    <tr>\n",
       "      <th>3</th>\n",
       "      <td>Ripple</td>\n",
       "      <td>XRP</td>\n",
       "      <td>4.062771e+10</td>\n",
       "      <td>1.041490</td>\n",
       "      <td>3.900922e+10</td>\n",
       "      <td>2.504810e+09</td>\n",
       "      <td>-0.37</td>\n",
       "      <td>32.86</td>\n",
       "      <td>23.94</td>\n",
       "    </tr>\n",
       "    <tr>\n",
       "      <th>4</th>\n",
       "      <td>Bitcoin Cash</td>\n",
       "      <td>BCH</td>\n",
       "      <td>2.294639e+10</td>\n",
       "      <td>1353.040000</td>\n",
       "      <td>1.695914e+07</td>\n",
       "      <td>1.149550e+09</td>\n",
       "      <td>0.11</td>\n",
       "      <td>7.89</td>\n",
       "      <td>18.32</td>\n",
       "    </tr>\n",
       "    <tr>\n",
       "      <th>5</th>\n",
       "      <td>Cardano</td>\n",
       "      <td>ADA</td>\n",
       "      <td>1.163729e+10</td>\n",
       "      <td>0.448847</td>\n",
       "      <td>2.592707e+10</td>\n",
       "      <td>7.603720e+08</td>\n",
       "      <td>-0.71</td>\n",
       "      <td>27.62</td>\n",
       "      <td>23.61</td>\n",
       "    </tr>\n",
       "  </tbody>\n",
       "</table>\n",
       "</div>"
      ],
      "text/plain": [
       "                name symbol    market_cap        price  circulating_supply  \\\n",
       "number                                                                       \n",
       "1            Bitcoin    BTC  1.507030e+11  8940.740000        1.685576e+07   \n",
       "2           Ethereum    ETH  8.754697e+10   897.729000        9.752049e+07   \n",
       "3             Ripple    XRP  4.062771e+10     1.041490        3.900922e+10   \n",
       "4       Bitcoin Cash    BCH  2.294639e+10  1353.040000        1.695914e+07   \n",
       "5            Cardano    ADA  1.163729e+10     0.448847        2.592707e+10   \n",
       "\n",
       "         volume_24hr    1h    24h     7d  \n",
       "number                                    \n",
       "1       8.103300e+09 -0.63  11.22   3.58  \n",
       "2       3.062570e+09 -0.41  11.99  -0.25  \n",
       "3       2.504810e+09 -0.37  32.86  23.94  \n",
       "4       1.149550e+09  0.11   7.89  18.32  \n",
       "5       7.603720e+08 -0.71  27.62  23.61  "
      ]
     },
     "execution_count": 2,
     "metadata": {},
     "output_type": "execute_result"
    }
   ],
   "source": [
    "df = pd.read_csv(\n",
    "    filepath_or_buffer = '../data/all_currencies_table.csv',\n",
    "    index_col = 0\n",
    ")\n",
    "df.head()"
   ]
  },
  {
   "cell_type": "markdown",
   "id": "34c4cd4e",
   "metadata": {},
   "source": [
    "### Metadata"
   ]
  },
  {
   "cell_type": "markdown",
   "id": "41672c3b",
   "metadata": {},
   "source": [
    "- __Name__ -> Name of the CryptoCurrency.\n",
    "- __Symbol__ -> Symbol of the CrytoCurrency.\n",
    "- __Market Capitalization(in USD)__ -> The total market value of a cryptocurrency's circulating supply.  \n",
    "$Market Cap = Current Price * Circulating Supply.$\n",
    "- __Price(in USD)__ -> The current price at which an asset or service can be bought or sold.  \n",
    "- __Circulating Supply__ -> The amount of coins that are circulating in the market and are in public hands.\n",
    "- __Volume 24-Hour(in USD)__ -> A measure of how much quantity of a cryptocurrency was traded in the last 24 hours.\n",
    "- __1 Hour(in \\%)__ -> Trend for the last hour.\n",
    "- __24 Hours(in \\%)__ -> Trend for the last 24 hours.\n",
    "- __7 days(in \\%)__ -> Trend for the last 7 days."
   ]
  },
  {
   "cell_type": "code",
   "execution_count": 3,
   "id": "00d228f1",
   "metadata": {},
   "outputs": [
    {
     "data": {
      "text/html": [
       "<div>\n",
       "<style scoped>\n",
       "    .dataframe tbody tr th:only-of-type {\n",
       "        vertical-align: middle;\n",
       "    }\n",
       "\n",
       "    .dataframe tbody tr th {\n",
       "        vertical-align: top;\n",
       "    }\n",
       "\n",
       "    .dataframe thead th {\n",
       "        text-align: right;\n",
       "    }\n",
       "</style>\n",
       "<table border=\"1\" class=\"dataframe\">\n",
       "  <thead>\n",
       "    <tr style=\"text-align: right;\">\n",
       "      <th></th>\n",
       "      <th>name</th>\n",
       "      <th>symbol</th>\n",
       "      <th>market_cap</th>\n",
       "      <th>price</th>\n",
       "      <th>circulating_supply</th>\n",
       "      <th>volume_24hr</th>\n",
       "      <th>1h</th>\n",
       "      <th>24h</th>\n",
       "      <th>7d</th>\n",
       "    </tr>\n",
       "    <tr>\n",
       "      <th>number</th>\n",
       "      <th></th>\n",
       "      <th></th>\n",
       "      <th></th>\n",
       "      <th></th>\n",
       "      <th></th>\n",
       "      <th></th>\n",
       "      <th></th>\n",
       "      <th></th>\n",
       "      <th></th>\n",
       "    </tr>\n",
       "  </thead>\n",
       "  <tbody>\n",
       "    <tr>\n",
       "      <th>1512</th>\n",
       "      <td>LiteCoin Gold</td>\n",
       "      <td>LTG</td>\n",
       "      <td>NaN</td>\n",
       "      <td>0.006132</td>\n",
       "      <td>NaN</td>\n",
       "      <td>NaN</td>\n",
       "      <td>NaN</td>\n",
       "      <td>8.37</td>\n",
       "      <td>-23.59</td>\n",
       "    </tr>\n",
       "    <tr>\n",
       "      <th>1513</th>\n",
       "      <td>eBIT</td>\n",
       "      <td>EBIT</td>\n",
       "      <td>NaN</td>\n",
       "      <td>0.004195</td>\n",
       "      <td>NaN</td>\n",
       "      <td>NaN</td>\n",
       "      <td>NaN</td>\n",
       "      <td>NaN</td>\n",
       "      <td>-38.75</td>\n",
       "    </tr>\n",
       "    <tr>\n",
       "      <th>1514</th>\n",
       "      <td>Faceblock</td>\n",
       "      <td>FBL</td>\n",
       "      <td>NaN</td>\n",
       "      <td>0.003230</td>\n",
       "      <td>NaN</td>\n",
       "      <td>NaN</td>\n",
       "      <td>NaN</td>\n",
       "      <td>NaN</td>\n",
       "      <td>-79.33</td>\n",
       "    </tr>\n",
       "    <tr>\n",
       "      <th>1515</th>\n",
       "      <td>Farstcoin</td>\n",
       "      <td>FRCT</td>\n",
       "      <td>NaN</td>\n",
       "      <td>NaN</td>\n",
       "      <td>NaN</td>\n",
       "      <td>NaN</td>\n",
       "      <td>NaN</td>\n",
       "      <td>NaN</td>\n",
       "      <td>NaN</td>\n",
       "    </tr>\n",
       "    <tr>\n",
       "      <th>1516</th>\n",
       "      <td>Decentralized...</td>\n",
       "      <td>DUBI</td>\n",
       "      <td>NaN</td>\n",
       "      <td>123.813000</td>\n",
       "      <td>NaN</td>\n",
       "      <td>NaN</td>\n",
       "      <td>NaN</td>\n",
       "      <td>10.87</td>\n",
       "      <td>11.25</td>\n",
       "    </tr>\n",
       "  </tbody>\n",
       "</table>\n",
       "</div>"
      ],
      "text/plain": [
       "                    name symbol  market_cap       price  circulating_supply  \\\n",
       "number                                                                        \n",
       "1512       LiteCoin Gold    LTG         NaN    0.006132                 NaN   \n",
       "1513                eBIT   EBIT         NaN    0.004195                 NaN   \n",
       "1514           Faceblock    FBL         NaN    0.003230                 NaN   \n",
       "1515           Farstcoin   FRCT         NaN         NaN                 NaN   \n",
       "1516    Decentralized...   DUBI         NaN  123.813000                 NaN   \n",
       "\n",
       "        volume_24hr  1h    24h     7d  \n",
       "number                                 \n",
       "1512            NaN NaN   8.37 -23.59  \n",
       "1513            NaN NaN    NaN -38.75  \n",
       "1514            NaN NaN    NaN -79.33  \n",
       "1515            NaN NaN    NaN    NaN  \n",
       "1516            NaN NaN  10.87  11.25  "
      ]
     },
     "execution_count": 3,
     "metadata": {},
     "output_type": "execute_result"
    }
   ],
   "source": [
    "df.tail()"
   ]
  },
  {
   "cell_type": "markdown",
   "id": "d1b8271b",
   "metadata": {},
   "source": [
    "From the above dataset, we can tell that name could potentially act as the index of the dataset.  \n",
    "To do the same, we need to make a few adjustments as seen from the mapping notebook."
   ]
  },
  {
   "cell_type": "markdown",
   "id": "5c67c3ef",
   "metadata": {},
   "source": [
    "## Name changes"
   ]
  },
  {
   "cell_type": "code",
   "execution_count": 4,
   "id": "d4637a4e",
   "metadata": {},
   "outputs": [],
   "source": [
    "p = pd.read_pickle(filepath_or_buffer = '../Data/Replacements.pkl')"
   ]
  },
  {
   "cell_type": "code",
   "execution_count": 5,
   "id": "0f7886fd",
   "metadata": {},
   "outputs": [],
   "source": [
    "def rip(l: str):\n",
    "    for i in '()[]./+- ':\n",
    "        l = l.replace(i, '')\n",
    "    return l.lower()\n",
    "df['name'] = df.name.apply(rip)\n",
    "df['name'].replace(p[0], inplace = True)"
   ]
  },
  {
   "cell_type": "code",
   "execution_count": 6,
   "id": "d13a4058",
   "metadata": {},
   "outputs": [
    {
     "data": {
      "text/html": [
       "<div>\n",
       "<style scoped>\n",
       "    .dataframe tbody tr th:only-of-type {\n",
       "        vertical-align: middle;\n",
       "    }\n",
       "\n",
       "    .dataframe tbody tr th {\n",
       "        vertical-align: top;\n",
       "    }\n",
       "\n",
       "    .dataframe thead th {\n",
       "        text-align: right;\n",
       "    }\n",
       "</style>\n",
       "<table border=\"1\" class=\"dataframe\">\n",
       "  <thead>\n",
       "    <tr style=\"text-align: right;\">\n",
       "      <th></th>\n",
       "      <th>name</th>\n",
       "      <th>symbol</th>\n",
       "      <th>market_cap</th>\n",
       "      <th>price</th>\n",
       "      <th>circulating_supply</th>\n",
       "      <th>volume_24hr</th>\n",
       "      <th>1h</th>\n",
       "      <th>24h</th>\n",
       "      <th>7d</th>\n",
       "    </tr>\n",
       "    <tr>\n",
       "      <th>number</th>\n",
       "      <th></th>\n",
       "      <th></th>\n",
       "      <th></th>\n",
       "      <th></th>\n",
       "      <th></th>\n",
       "      <th></th>\n",
       "      <th></th>\n",
       "      <th></th>\n",
       "      <th></th>\n",
       "    </tr>\n",
       "  </thead>\n",
       "  <tbody>\n",
       "    <tr>\n",
       "      <th>860</th>\n",
       "      <td>hempcoin</td>\n",
       "      <td>HMP</td>\n",
       "      <td>240320.248491</td>\n",
       "      <td>0.000177</td>\n",
       "      <td>1.356645e+09</td>\n",
       "      <td>574.643</td>\n",
       "      <td>-1.00</td>\n",
       "      <td>11.42</td>\n",
       "      <td>105.11</td>\n",
       "    </tr>\n",
       "    <tr>\n",
       "      <th>1054</th>\n",
       "      <td>enigma</td>\n",
       "      <td>XNG</td>\n",
       "      <td>197992.821499</td>\n",
       "      <td>0.343037</td>\n",
       "      <td>5.771763e+05</td>\n",
       "      <td>202.097</td>\n",
       "      <td>-0.99</td>\n",
       "      <td>18.05</td>\n",
       "      <td>2.58</td>\n",
       "    </tr>\n",
       "    <tr>\n",
       "      <th>1383</th>\n",
       "      <td>firstbitcoin</td>\n",
       "      <td>BITCF</td>\n",
       "      <td>NaN</td>\n",
       "      <td>0.240117</td>\n",
       "      <td>NaN</td>\n",
       "      <td>1186.050</td>\n",
       "      <td>-0.99</td>\n",
       "      <td>-32.45</td>\n",
       "      <td>8.73</td>\n",
       "    </tr>\n",
       "    <tr>\n",
       "      <th>1389</th>\n",
       "      <td>encryptotel</td>\n",
       "      <td>ETT</td>\n",
       "      <td>NaN</td>\n",
       "      <td>0.079232</td>\n",
       "      <td>NaN</td>\n",
       "      <td>949.529</td>\n",
       "      <td>-1.23</td>\n",
       "      <td>6.45</td>\n",
       "      <td>-2.17</td>\n",
       "    </tr>\n",
       "  </tbody>\n",
       "</table>\n",
       "</div>"
      ],
      "text/plain": [
       "                name symbol     market_cap     price  circulating_supply  \\\n",
       "number                                                                     \n",
       "860         hempcoin    HMP  240320.248491  0.000177        1.356645e+09   \n",
       "1054          enigma    XNG  197992.821499  0.343037        5.771763e+05   \n",
       "1383    firstbitcoin  BITCF            NaN  0.240117                 NaN   \n",
       "1389     encryptotel    ETT            NaN  0.079232                 NaN   \n",
       "\n",
       "        volume_24hr    1h    24h      7d  \n",
       "number                                    \n",
       "860         574.643 -1.00  11.42  105.11  \n",
       "1054        202.097 -0.99  18.05    2.58  \n",
       "1383       1186.050 -0.99 -32.45    8.73  \n",
       "1389        949.529 -1.23   6.45   -2.17  "
      ]
     },
     "execution_count": 6,
     "metadata": {},
     "output_type": "execute_result"
    }
   ],
   "source": [
    "d = df[df.duplicated(subset = 'name')].copy()\n",
    "d"
   ]
  },
  {
   "cell_type": "code",
   "execution_count": 7,
   "id": "80f415b7",
   "metadata": {},
   "outputs": [],
   "source": [
    "df.drop_duplicates(subset = 'name', keep = 'last', inplace = True)"
   ]
  },
  {
   "cell_type": "code",
   "execution_count": 8,
   "id": "466f3240",
   "metadata": {},
   "outputs": [],
   "source": [
    "d.name.replace(p[2], inplace = True)"
   ]
  },
  {
   "cell_type": "code",
   "execution_count": 9,
   "id": "59ab6955",
   "metadata": {},
   "outputs": [
    {
     "data": {
      "text/html": [
       "<div>\n",
       "<style scoped>\n",
       "    .dataframe tbody tr th:only-of-type {\n",
       "        vertical-align: middle;\n",
       "    }\n",
       "\n",
       "    .dataframe tbody tr th {\n",
       "        vertical-align: top;\n",
       "    }\n",
       "\n",
       "    .dataframe thead th {\n",
       "        text-align: right;\n",
       "    }\n",
       "</style>\n",
       "<table border=\"1\" class=\"dataframe\">\n",
       "  <thead>\n",
       "    <tr style=\"text-align: right;\">\n",
       "      <th></th>\n",
       "      <th>name</th>\n",
       "      <th>symbol</th>\n",
       "      <th>market_cap</th>\n",
       "      <th>price</th>\n",
       "      <th>circulating_supply</th>\n",
       "      <th>volume_24hr</th>\n",
       "      <th>1h</th>\n",
       "      <th>24h</th>\n",
       "      <th>7d</th>\n",
       "    </tr>\n",
       "    <tr>\n",
       "      <th>number</th>\n",
       "      <th></th>\n",
       "      <th></th>\n",
       "      <th></th>\n",
       "      <th></th>\n",
       "      <th></th>\n",
       "      <th></th>\n",
       "      <th></th>\n",
       "      <th></th>\n",
       "      <th></th>\n",
       "    </tr>\n",
       "  </thead>\n",
       "  <tbody>\n",
       "    <tr>\n",
       "      <th>860</th>\n",
       "      <td>hempcoinhmp</td>\n",
       "      <td>HMP</td>\n",
       "      <td>240320.248491</td>\n",
       "      <td>0.000177</td>\n",
       "      <td>1.356645e+09</td>\n",
       "      <td>574.643</td>\n",
       "      <td>-1.00</td>\n",
       "      <td>11.42</td>\n",
       "      <td>105.11</td>\n",
       "    </tr>\n",
       "    <tr>\n",
       "      <th>1054</th>\n",
       "      <td>enigmaproject</td>\n",
       "      <td>XNG</td>\n",
       "      <td>197992.821499</td>\n",
       "      <td>0.343037</td>\n",
       "      <td>5.771763e+05</td>\n",
       "      <td>202.097</td>\n",
       "      <td>-0.99</td>\n",
       "      <td>18.05</td>\n",
       "      <td>2.58</td>\n",
       "    </tr>\n",
       "  </tbody>\n",
       "</table>\n",
       "</div>"
      ],
      "text/plain": [
       "                 name symbol     market_cap     price  circulating_supply  \\\n",
       "number                                                                      \n",
       "860       hempcoinhmp    HMP  240320.248491  0.000177        1.356645e+09   \n",
       "1054    enigmaproject    XNG  197992.821499  0.343037        5.771763e+05   \n",
       "\n",
       "        volume_24hr    1h    24h      7d  \n",
       "number                                    \n",
       "860         574.643 -1.00  11.42  105.11  \n",
       "1054        202.097 -0.99  18.05    2.58  "
      ]
     },
     "execution_count": 9,
     "metadata": {},
     "output_type": "execute_result"
    }
   ],
   "source": [
    "d.dropna(inplace = True)\n",
    "d"
   ]
  },
  {
   "cell_type": "markdown",
   "id": "8e7b684a",
   "metadata": {},
   "source": [
    "Now, we can append the same back to the original dataset."
   ]
  },
  {
   "cell_type": "code",
   "execution_count": 10,
   "id": "e3ef4252",
   "metadata": {},
   "outputs": [],
   "source": [
    "df = df.append(d)"
   ]
  },
  {
   "cell_type": "code",
   "execution_count": 11,
   "id": "1abe70ea",
   "metadata": {},
   "outputs": [],
   "source": [
    "df = df[df.name.apply(lambda l: l not in p[1])]"
   ]
  },
  {
   "cell_type": "markdown",
   "id": "58635984",
   "metadata": {},
   "source": [
    "Now that the necessary changes to name have been done, we can set it as the index."
   ]
  },
  {
   "cell_type": "code",
   "execution_count": 12,
   "id": "2e69266a",
   "metadata": {},
   "outputs": [],
   "source": [
    "df.set_index(\n",
    "    keys = ['name', 'symbol'],\n",
    "    inplace = True\n",
    ")"
   ]
  },
  {
   "cell_type": "code",
   "execution_count": 13,
   "id": "e4d5dd4d",
   "metadata": {},
   "outputs": [
    {
     "name": "stdout",
     "output_type": "stream",
     "text": [
      "<class 'pandas.core.frame.DataFrame'>\n",
      "MultiIndex: 1501 entries, ('bitcoin', 'BTC') to ('enigmaproject', 'XNG')\n",
      "Data columns (total 7 columns):\n",
      " #   Column              Non-Null Count  Dtype  \n",
      "---  ------              --------------  -----  \n",
      " 0   market_cap          1142 non-null   float64\n",
      " 1   price               1499 non-null   float64\n",
      " 2   circulating_supply  1119 non-null   float64\n",
      " 3   volume_24hr         1487 non-null   float64\n",
      " 4   1h                  1437 non-null   float64\n",
      " 5   24h                 1450 non-null   float64\n",
      " 6   7d                  1463 non-null   float64\n",
      "dtypes: float64(7)\n",
      "memory usage: 175.8+ KB\n"
     ]
    }
   ],
   "source": [
    "df.info()"
   ]
  },
  {
   "cell_type": "code",
   "execution_count": 14,
   "id": "3e2a9704",
   "metadata": {},
   "outputs": [
    {
     "data": {
      "text/plain": [
       "(1501, 7)"
      ]
     },
     "execution_count": 14,
     "metadata": {},
     "output_type": "execute_result"
    }
   ],
   "source": [
    "df.shape"
   ]
  },
  {
   "cell_type": "code",
   "execution_count": 15,
   "id": "4b1c0a47",
   "metadata": {},
   "outputs": [
    {
     "data": {
      "text/plain": [
       "0    1061\n",
       "2     328\n",
       "1      56\n",
       "3      35\n",
       "4      16\n",
       "5       2\n",
       "6       2\n",
       "7       1\n",
       "dtype: int64"
      ]
     },
     "execution_count": 15,
     "metadata": {},
     "output_type": "execute_result"
    }
   ],
   "source": [
    "df.apply(\n",
    "    func = lambda l: l.isna().sum(),\n",
    "    axis = 1\n",
    ").value_counts()"
   ]
  },
  {
   "cell_type": "markdown",
   "id": "16472a70",
   "metadata": {},
   "source": [
    "We can choose to drop data with more than 2 missing values and apply filler techniques for the rest."
   ]
  },
  {
   "cell_type": "code",
   "execution_count": 16,
   "id": "74042c4e",
   "metadata": {
    "run_control": {
     "marked": false
    },
    "scrolled": false
   },
   "outputs": [
    {
     "data": {
      "image/png": "[encoded data removed]",
      "text/plain": [
       "<Figure size 1800x720 with 3 Axes>"
      ]
     },
     "metadata": {},
     "output_type": "display_data"
    }
   ],
   "source": [
    "fig = msno.bar(\n",
    "    df,\n",
    "    color = 'green'\n",
    ")\n",
    "plt.show()"
   ]
  },
  {
   "cell_type": "markdown",
   "id": "dd60bbfb",
   "metadata": {},
   "source": [
    "Leaving market_cap and circulating_supply, the number of missing values in the other features is quite low."
   ]
  },
  {
   "cell_type": "code",
   "execution_count": 17,
   "id": "c87c4ef6",
   "metadata": {},
   "outputs": [
    {
     "data": {
      "image/png": "[encoded data removed]",
      "text/plain": [
       "<Figure size 1800x720 with 1 Axes>"
      ]
     },
     "metadata": {},
     "output_type": "display_data"
    }
   ],
   "source": [
    "ax = msno.matrix(\n",
    "    df,\n",
    "    color = (0, 0, 0.6),\n",
    "    sparkline = False\n",
    ")\n",
    "plt.show()"
   ]
  },
  {
   "cell_type": "markdown",
   "id": "eb3682b2",
   "metadata": {},
   "source": [
    "Here, we can see that there is high correspondence of nullity between market_cap and circulating_supply.  \n",
    "For now lets fill all the other features with their respective means."
   ]
  },
  {
   "cell_type": "code",
   "execution_count": 18,
   "id": "a4af0e5e",
   "metadata": {},
   "outputs": [
    {
     "data": {
      "text/html": [
       "<div>\n",
       "<style scoped>\n",
       "    .dataframe tbody tr th:only-of-type {\n",
       "        vertical-align: middle;\n",
       "    }\n",
       "\n",
       "    .dataframe tbody tr th {\n",
       "        vertical-align: top;\n",
       "    }\n",
       "\n",
       "    .dataframe thead th {\n",
       "        text-align: right;\n",
       "    }\n",
       "</style>\n",
       "<table border=\"1\" class=\"dataframe\">\n",
       "  <thead>\n",
       "    <tr style=\"text-align: right;\">\n",
       "      <th></th>\n",
       "      <th></th>\n",
       "      <th>market_cap</th>\n",
       "      <th>price</th>\n",
       "      <th>circulating_supply</th>\n",
       "      <th>volume_24hr</th>\n",
       "      <th>1h</th>\n",
       "      <th>24h</th>\n",
       "      <th>7d</th>\n",
       "    </tr>\n",
       "    <tr>\n",
       "      <th>name</th>\n",
       "      <th>symbol</th>\n",
       "      <th></th>\n",
       "      <th></th>\n",
       "      <th></th>\n",
       "      <th></th>\n",
       "      <th></th>\n",
       "      <th></th>\n",
       "      <th></th>\n",
       "    </tr>\n",
       "  </thead>\n",
       "  <tbody>\n",
       "    <tr>\n",
       "      <th>lltoken</th>\n",
       "      <th>LLT</th>\n",
       "      <td>NaN</td>\n",
       "      <td>NaN</td>\n",
       "      <td>NaN</td>\n",
       "      <td>0.0</td>\n",
       "      <td>NaN</td>\n",
       "      <td>NaN</td>\n",
       "      <td>NaN</td>\n",
       "    </tr>\n",
       "    <tr>\n",
       "      <th>firstbitcoincapital</th>\n",
       "      <th>FRCT</th>\n",
       "      <td>NaN</td>\n",
       "      <td>NaN</td>\n",
       "      <td>NaN</td>\n",
       "      <td>NaN</td>\n",
       "      <td>NaN</td>\n",
       "      <td>NaN</td>\n",
       "      <td>NaN</td>\n",
       "    </tr>\n",
       "  </tbody>\n",
       "</table>\n",
       "</div>"
      ],
      "text/plain": [
       "                            market_cap  price  circulating_supply  \\\n",
       "name                symbol                                          \n",
       "lltoken             LLT            NaN    NaN                 NaN   \n",
       "firstbitcoincapital FRCT           NaN    NaN                 NaN   \n",
       "\n",
       "                            volume_24hr  1h  24h  7d  \n",
       "name                symbol                            \n",
       "lltoken             LLT             0.0 NaN  NaN NaN  \n",
       "firstbitcoincapital FRCT            NaN NaN  NaN NaN  "
      ]
     },
     "execution_count": 18,
     "metadata": {},
     "output_type": "execute_result"
    }
   ],
   "source": [
    "df[df.price.isna()]"
   ]
  },
  {
   "cell_type": "markdown",
   "id": "a9aac559",
   "metadata": {},
   "source": [
    "For now we can ignore the price feature as the 2 data points will eventually be dropped eitherways."
   ]
  },
  {
   "cell_type": "code",
   "execution_count": 19,
   "id": "4dcc29bd",
   "metadata": {},
   "outputs": [
    {
     "name": "stdout",
     "output_type": "stream",
     "text": [
      "Index(['volume_24hr', '1h', '24h', '7d'], dtype='object')\n"
     ]
    }
   ],
   "source": [
    "def filler(l):\n",
    "    mean = l.mean()\n",
    "    l.fillna(mean, inplace = True)\n",
    "    return l\n",
    "names = df.columns[3:]\n",
    "print(names)\n",
    "df[names] = df[names].apply(func = filler)"
   ]
  },
  {
   "cell_type": "code",
   "execution_count": 20,
   "id": "af846db8",
   "metadata": {},
   "outputs": [
    {
     "data": {
      "text/html": [
       "<div>\n",
       "<style scoped>\n",
       "    .dataframe tbody tr th:only-of-type {\n",
       "        vertical-align: middle;\n",
       "    }\n",
       "\n",
       "    .dataframe tbody tr th {\n",
       "        vertical-align: top;\n",
       "    }\n",
       "\n",
       "    .dataframe thead th {\n",
       "        text-align: right;\n",
       "    }\n",
       "</style>\n",
       "<table border=\"1\" class=\"dataframe\">\n",
       "  <thead>\n",
       "    <tr style=\"text-align: right;\">\n",
       "      <th></th>\n",
       "      <th></th>\n",
       "      <th>market_cap</th>\n",
       "      <th>price</th>\n",
       "      <th>circulating_supply</th>\n",
       "      <th>volume_24hr</th>\n",
       "      <th>1h</th>\n",
       "      <th>24h</th>\n",
       "      <th>7d</th>\n",
       "    </tr>\n",
       "    <tr>\n",
       "      <th>name</th>\n",
       "      <th>symbol</th>\n",
       "      <th></th>\n",
       "      <th></th>\n",
       "      <th></th>\n",
       "      <th></th>\n",
       "      <th></th>\n",
       "      <th></th>\n",
       "      <th></th>\n",
       "    </tr>\n",
       "  </thead>\n",
       "  <tbody>\n",
       "    <tr>\n",
       "      <th>faceblock</th>\n",
       "      <th>FBL</th>\n",
       "      <td>NaN</td>\n",
       "      <td>0.003230</td>\n",
       "      <td>NaN</td>\n",
       "      <td>1.669866e+07</td>\n",
       "      <td>-0.71247</td>\n",
       "      <td>13.828138</td>\n",
       "      <td>-79.330000</td>\n",
       "    </tr>\n",
       "    <tr>\n",
       "      <th>firstbitcoincapital</th>\n",
       "      <th>FRCT</th>\n",
       "      <td>NaN</td>\n",
       "      <td>NaN</td>\n",
       "      <td>NaN</td>\n",
       "      <td>1.669866e+07</td>\n",
       "      <td>-0.71247</td>\n",
       "      <td>13.828138</td>\n",
       "      <td>4.981012</td>\n",
       "    </tr>\n",
       "    <tr>\n",
       "      <th>decentralizeduniversalbasicincome</th>\n",
       "      <th>DUBI</th>\n",
       "      <td>NaN</td>\n",
       "      <td>123.813000</td>\n",
       "      <td>NaN</td>\n",
       "      <td>1.669866e+07</td>\n",
       "      <td>-0.71247</td>\n",
       "      <td>10.870000</td>\n",
       "      <td>11.250000</td>\n",
       "    </tr>\n",
       "    <tr>\n",
       "      <th>hempcoinhmp</th>\n",
       "      <th>HMP</th>\n",
       "      <td>240320.248491</td>\n",
       "      <td>0.000177</td>\n",
       "      <td>1.356645e+09</td>\n",
       "      <td>5.746430e+02</td>\n",
       "      <td>-1.00000</td>\n",
       "      <td>11.420000</td>\n",
       "      <td>105.110000</td>\n",
       "    </tr>\n",
       "    <tr>\n",
       "      <th>enigmaproject</th>\n",
       "      <th>XNG</th>\n",
       "      <td>197992.821499</td>\n",
       "      <td>0.343037</td>\n",
       "      <td>5.771763e+05</td>\n",
       "      <td>2.020970e+02</td>\n",
       "      <td>-0.99000</td>\n",
       "      <td>18.050000</td>\n",
       "      <td>2.580000</td>\n",
       "    </tr>\n",
       "  </tbody>\n",
       "</table>\n",
       "</div>"
      ],
      "text/plain": [
       "                                             market_cap       price  \\\n",
       "name                              symbol                              \n",
       "faceblock                         FBL               NaN    0.003230   \n",
       "firstbitcoincapital               FRCT              NaN         NaN   \n",
       "decentralizeduniversalbasicincome DUBI              NaN  123.813000   \n",
       "hempcoinhmp                       HMP     240320.248491    0.000177   \n",
       "enigmaproject                     XNG     197992.821499    0.343037   \n",
       "\n",
       "                                          circulating_supply   volume_24hr  \\\n",
       "name                              symbol                                     \n",
       "faceblock                         FBL                    NaN  1.669866e+07   \n",
       "firstbitcoincapital               FRCT                   NaN  1.669866e+07   \n",
       "decentralizeduniversalbasicincome DUBI                   NaN  1.669866e+07   \n",
       "hempcoinhmp                       HMP           1.356645e+09  5.746430e+02   \n",
       "enigmaproject                     XNG           5.771763e+05  2.020970e+02   \n",
       "\n",
       "                                               1h        24h          7d  \n",
       "name                              symbol                                  \n",
       "faceblock                         FBL    -0.71247  13.828138  -79.330000  \n",
       "firstbitcoincapital               FRCT   -0.71247  13.828138    4.981012  \n",
       "decentralizeduniversalbasicincome DUBI   -0.71247  10.870000   11.250000  \n",
       "hempcoinhmp                       HMP    -1.00000  11.420000  105.110000  \n",
       "enigmaproject                     XNG    -0.99000  18.050000    2.580000  "
      ]
     },
     "execution_count": 20,
     "metadata": {},
     "output_type": "execute_result"
    }
   ],
   "source": [
    "df.tail()"
   ]
  },
  {
   "cell_type": "markdown",
   "id": "6eb2e236",
   "metadata": {},
   "source": [
    "Now that NaNs are dealt with for the other features, we can look into circulating_supply and market_cap.  \n",
    "Both these features are related through an equation that goes like -  \n",
    "$Market Cap = Current Price * Circulating Supply.$  \n",
    "It can be used to fill the NaNs in circulating_supply.  \n",
    "Next, we can drop the common null data points between the two."
   ]
  },
  {
   "cell_type": "code",
   "execution_count": 21,
   "id": "508260da",
   "metadata": {},
   "outputs": [
    {
     "data": {
      "text/plain": [
       "(1142, 7)"
      ]
     },
     "execution_count": 21,
     "metadata": {},
     "output_type": "execute_result"
    }
   ],
   "source": [
    "df['circulating_supply'] = df.apply(\n",
    "    func = lambda l: l[0] / l[1] if pd.isna(l[2]) else l[2],\n",
    "    axis = 1\n",
    ")\n",
    "df.dropna(inplace = True)\n",
    "df.shape"
   ]
  },
  {
   "cell_type": "markdown",
   "id": "0a561461",
   "metadata": {},
   "source": [
    "We've gotten rid of 360 data points and applied filler methods for the remaining NaNs.  \n",
    "Lets take a look at the bar chart to see if they're any more remaining."
   ]
  },
  {
   "cell_type": "code",
   "execution_count": 22,
   "id": "015ce2da",
   "metadata": {
    "run_control": {
     "marked": false
    },
    "scrolled": false
   },
   "outputs": [
    {
     "data": {
      "image/png": "[encoded data removed]",
      "text/plain": [
       "<Figure size 1800x720 with 3 Axes>"
      ]
     },
     "metadata": {},
     "output_type": "display_data"
    }
   ],
   "source": [
    "fig = msno.bar(\n",
    "    df,\n",
    "    color = 'green'\n",
    ")\n",
    "plt.show()"
   ]
  },
  {
   "cell_type": "markdown",
   "id": "984662d5",
   "metadata": {},
   "source": [
    "Now that we've gotten rid of all the NaNs, We can look to rename our features for ease of access during EDA."
   ]
  },
  {
   "cell_type": "code",
   "execution_count": 23,
   "id": "20420d47",
   "metadata": {},
   "outputs": [
    {
     "data": {
      "text/html": [
       "<div>\n",
       "<style scoped>\n",
       "    .dataframe tbody tr th:only-of-type {\n",
       "        vertical-align: middle;\n",
       "    }\n",
       "\n",
       "    .dataframe tbody tr th {\n",
       "        vertical-align: top;\n",
       "    }\n",
       "\n",
       "    .dataframe thead th {\n",
       "        text-align: right;\n",
       "    }\n",
       "</style>\n",
       "<table border=\"1\" class=\"dataframe\">\n",
       "  <thead>\n",
       "    <tr style=\"text-align: right;\">\n",
       "      <th></th>\n",
       "      <th></th>\n",
       "      <th>MarketCap</th>\n",
       "      <th>Price</th>\n",
       "      <th>Circulate</th>\n",
       "      <th>Volume</th>\n",
       "      <th>Hourly</th>\n",
       "      <th>Daily</th>\n",
       "      <th>Weekly</th>\n",
       "    </tr>\n",
       "    <tr>\n",
       "      <th>Name</th>\n",
       "      <th>Symbol</th>\n",
       "      <th></th>\n",
       "      <th></th>\n",
       "      <th></th>\n",
       "      <th></th>\n",
       "      <th></th>\n",
       "      <th></th>\n",
       "      <th></th>\n",
       "    </tr>\n",
       "  </thead>\n",
       "  <tbody>\n",
       "    <tr>\n",
       "      <th>bitcoin</th>\n",
       "      <th>BTC</th>\n",
       "      <td>1.507030e+11</td>\n",
       "      <td>8940.740000</td>\n",
       "      <td>1.685576e+07</td>\n",
       "      <td>8.103300e+09</td>\n",
       "      <td>-0.63</td>\n",
       "      <td>11.22</td>\n",
       "      <td>3.58</td>\n",
       "    </tr>\n",
       "    <tr>\n",
       "      <th>ethereum</th>\n",
       "      <th>ETH</th>\n",
       "      <td>8.754697e+10</td>\n",
       "      <td>897.729000</td>\n",
       "      <td>9.752049e+07</td>\n",
       "      <td>3.062570e+09</td>\n",
       "      <td>-0.41</td>\n",
       "      <td>11.99</td>\n",
       "      <td>-0.25</td>\n",
       "    </tr>\n",
       "    <tr>\n",
       "      <th>ripple</th>\n",
       "      <th>XRP</th>\n",
       "      <td>4.062771e+10</td>\n",
       "      <td>1.041490</td>\n",
       "      <td>3.900922e+10</td>\n",
       "      <td>2.504810e+09</td>\n",
       "      <td>-0.37</td>\n",
       "      <td>32.86</td>\n",
       "      <td>23.94</td>\n",
       "    </tr>\n",
       "    <tr>\n",
       "      <th>bitcoincash</th>\n",
       "      <th>BCH</th>\n",
       "      <td>2.294639e+10</td>\n",
       "      <td>1353.040000</td>\n",
       "      <td>1.695914e+07</td>\n",
       "      <td>1.149550e+09</td>\n",
       "      <td>0.11</td>\n",
       "      <td>7.89</td>\n",
       "      <td>18.32</td>\n",
       "    </tr>\n",
       "    <tr>\n",
       "      <th>cardano</th>\n",
       "      <th>ADA</th>\n",
       "      <td>1.163729e+10</td>\n",
       "      <td>0.448847</td>\n",
       "      <td>2.592707e+10</td>\n",
       "      <td>7.603720e+08</td>\n",
       "      <td>-0.71</td>\n",
       "      <td>27.62</td>\n",
       "      <td>23.61</td>\n",
       "    </tr>\n",
       "  </tbody>\n",
       "</table>\n",
       "</div>"
      ],
      "text/plain": [
       "                       MarketCap        Price     Circulate        Volume  \\\n",
       "Name        Symbol                                                          \n",
       "bitcoin     BTC     1.507030e+11  8940.740000  1.685576e+07  8.103300e+09   \n",
       "ethereum    ETH     8.754697e+10   897.729000  9.752049e+07  3.062570e+09   \n",
       "ripple      XRP     4.062771e+10     1.041490  3.900922e+10  2.504810e+09   \n",
       "bitcoincash BCH     2.294639e+10  1353.040000  1.695914e+07  1.149550e+09   \n",
       "cardano     ADA     1.163729e+10     0.448847  2.592707e+10  7.603720e+08   \n",
       "\n",
       "                    Hourly  Daily  Weekly  \n",
       "Name        Symbol                         \n",
       "bitcoin     BTC      -0.63  11.22    3.58  \n",
       "ethereum    ETH      -0.41  11.99   -0.25  \n",
       "ripple      XRP      -0.37  32.86   23.94  \n",
       "bitcoincash BCH       0.11   7.89   18.32  \n",
       "cardano     ADA      -0.71  27.62   23.61  "
      ]
     },
     "execution_count": 23,
     "metadata": {},
     "output_type": "execute_result"
    }
   ],
   "source": [
    "df.rename(\n",
    "    columns = {\n",
    "        'market_cap': 'MarketCap',\n",
    "        'price': 'Price',\n",
    "        'circulating_supply': 'Circulate',\n",
    "        'volume_24hr': 'Volume',\n",
    "        '1h': 'Hourly',\n",
    "        '24h': 'Daily',\n",
    "        '7d': 'Weekly'\n",
    "    },\n",
    "    inplace = True\n",
    ")\n",
    "df.index.rename(names = ['Name', 'Symbol'], inplace = True)\n",
    "df.head()"
   ]
  },
  {
   "cell_type": "code",
   "execution_count": 24,
   "id": "70c2ee7c",
   "metadata": {},
   "outputs": [],
   "source": [
    "df.to_csv(\n",
    "    path_or_buf = '../data/all_currencies_clean_table.csv'\n",
    ")"
   ]
  },
  {
   "cell_type": "markdown",
   "id": "d5cb60ba",
   "metadata": {},
   "source": [
    "## CryptoCurrency Prices by Date Dataset"
   ]
  },
  {
   "cell_type": "code",
   "execution_count": 25,
   "id": "fbffbf2d",
   "metadata": {},
   "outputs": [
    {
     "data": {
      "text/html": [
       "<div>\n",
       "<style scoped>\n",
       "    .dataframe tbody tr th:only-of-type {\n",
       "        vertical-align: middle;\n",
       "    }\n",
       "\n",
       "    .dataframe tbody tr th {\n",
       "        vertical-align: top;\n",
       "    }\n",
       "\n",
       "    .dataframe thead th {\n",
       "        text-align: right;\n",
       "    }\n",
       "</style>\n",
       "<table border=\"1\" class=\"dataframe\">\n",
       "  <thead>\n",
       "    <tr style=\"text-align: right;\">\n",
       "      <th></th>\n",
       "      <th>currency</th>\n",
       "      <th>date</th>\n",
       "      <th>price</th>\n",
       "    </tr>\n",
       "  </thead>\n",
       "  <tbody>\n",
       "    <tr>\n",
       "      <th>0</th>\n",
       "      <td>0x</td>\n",
       "      <td>1502892561000</td>\n",
       "      <td>0.111725</td>\n",
       "    </tr>\n",
       "    <tr>\n",
       "      <th>1</th>\n",
       "      <td>0x</td>\n",
       "      <td>1502982305000</td>\n",
       "      <td>0.211486</td>\n",
       "    </tr>\n",
       "    <tr>\n",
       "      <th>2</th>\n",
       "      <td>0x</td>\n",
       "      <td>1503068692000</td>\n",
       "      <td>0.283789</td>\n",
       "    </tr>\n",
       "    <tr>\n",
       "      <th>3</th>\n",
       "      <td>0x</td>\n",
       "      <td>1503155108000</td>\n",
       "      <td>0.511434</td>\n",
       "    </tr>\n",
       "    <tr>\n",
       "      <th>4</th>\n",
       "      <td>0x</td>\n",
       "      <td>1503241503000</td>\n",
       "      <td>0.429522</td>\n",
       "    </tr>\n",
       "  </tbody>\n",
       "</table>\n",
       "</div>"
      ],
      "text/plain": [
       "  currency           date     price\n",
       "0       0x  1502892561000  0.111725\n",
       "1       0x  1502982305000  0.211486\n",
       "2       0x  1503068692000  0.283789\n",
       "3       0x  1503155108000  0.511434\n",
       "4       0x  1503241503000  0.429522"
      ]
     },
     "execution_count": 25,
     "metadata": {},
     "output_type": "execute_result"
    }
   ],
   "source": [
    "trend = pd.read_csv(\n",
    "    filepath_or_buffer = '../data/cryptocurrency_prices_by_date.csv'\n",
    ")\n",
    "trend.head()"
   ]
  },
  {
   "cell_type": "markdown",
   "id": "0ddb25b3",
   "metadata": {},
   "source": [
    "For this dataset, we could start off by bringing the date back to a usual format."
   ]
  },
  {
   "cell_type": "code",
   "execution_count": 26,
   "id": "5bb1dc92",
   "metadata": {},
   "outputs": [
    {
     "data": {
      "text/html": [
       "<div>\n",
       "<style scoped>\n",
       "    .dataframe tbody tr th:only-of-type {\n",
       "        vertical-align: middle;\n",
       "    }\n",
       "\n",
       "    .dataframe tbody tr th {\n",
       "        vertical-align: top;\n",
       "    }\n",
       "\n",
       "    .dataframe thead th {\n",
       "        text-align: right;\n",
       "    }\n",
       "</style>\n",
       "<table border=\"1\" class=\"dataframe\">\n",
       "  <thead>\n",
       "    <tr style=\"text-align: right;\">\n",
       "      <th></th>\n",
       "      <th>currency</th>\n",
       "      <th>date</th>\n",
       "      <th>price</th>\n",
       "    </tr>\n",
       "  </thead>\n",
       "  <tbody>\n",
       "    <tr>\n",
       "      <th>657311</th>\n",
       "      <td>zurcoin</td>\n",
       "      <td>04-02-2018 07:09:10</td>\n",
       "      <td>0.003254</td>\n",
       "    </tr>\n",
       "    <tr>\n",
       "      <th>657312</th>\n",
       "      <td>zurcoin</td>\n",
       "      <td>05-02-2018 07:09:10</td>\n",
       "      <td>0.002774</td>\n",
       "    </tr>\n",
       "    <tr>\n",
       "      <th>657313</th>\n",
       "      <td>zurcoin</td>\n",
       "      <td>06-02-2018 07:44:10</td>\n",
       "      <td>0.001986</td>\n",
       "    </tr>\n",
       "    <tr>\n",
       "      <th>657314</th>\n",
       "      <td>zurcoin</td>\n",
       "      <td>09-02-2018 08:29:06</td>\n",
       "      <td>0.002684</td>\n",
       "    </tr>\n",
       "    <tr>\n",
       "      <th>657315</th>\n",
       "      <td>zurcoin</td>\n",
       "      <td>10-02-2018 03:54:06</td>\n",
       "      <td>0.002325</td>\n",
       "    </tr>\n",
       "  </tbody>\n",
       "</table>\n",
       "</div>"
      ],
      "text/plain": [
       "       currency                 date     price\n",
       "657311  zurcoin  04-02-2018 07:09:10  0.003254\n",
       "657312  zurcoin  05-02-2018 07:09:10  0.002774\n",
       "657313  zurcoin  06-02-2018 07:44:10  0.001986\n",
       "657314  zurcoin  09-02-2018 08:29:06  0.002684\n",
       "657315  zurcoin  10-02-2018 03:54:06  0.002325"
      ]
     },
     "execution_count": 26,
     "metadata": {},
     "output_type": "execute_result"
    }
   ],
   "source": [
    "trend['date'] = pd.to_datetime(\n",
    "    arg = trend.date,\n",
    "    unit = 'ms'\n",
    ").dt.strftime('%d-%m-%Y %H:%M:%S')\n",
    "trend.tail()"
   ]
  },
  {
   "cell_type": "markdown",
   "id": "4bff4375",
   "metadata": {},
   "source": [
    "Next up, lets rename our features for ease of access."
   ]
  },
  {
   "cell_type": "code",
   "execution_count": 27,
   "id": "e8ff5597",
   "metadata": {},
   "outputs": [
    {
     "data": {
      "text/html": [
       "<div>\n",
       "<style scoped>\n",
       "    .dataframe tbody tr th:only-of-type {\n",
       "        vertical-align: middle;\n",
       "    }\n",
       "\n",
       "    .dataframe tbody tr th {\n",
       "        vertical-align: top;\n",
       "    }\n",
       "\n",
       "    .dataframe thead th {\n",
       "        text-align: right;\n",
       "    }\n",
       "</style>\n",
       "<table border=\"1\" class=\"dataframe\">\n",
       "  <thead>\n",
       "    <tr style=\"text-align: right;\">\n",
       "      <th></th>\n",
       "      <th>Coin</th>\n",
       "      <th>Date</th>\n",
       "      <th>Price</th>\n",
       "    </tr>\n",
       "  </thead>\n",
       "  <tbody>\n",
       "    <tr>\n",
       "      <th>0</th>\n",
       "      <td>0x</td>\n",
       "      <td>16-08-2017 14:09:21</td>\n",
       "      <td>0.111725</td>\n",
       "    </tr>\n",
       "    <tr>\n",
       "      <th>1</th>\n",
       "      <td>0x</td>\n",
       "      <td>17-08-2017 15:05:05</td>\n",
       "      <td>0.211486</td>\n",
       "    </tr>\n",
       "    <tr>\n",
       "      <th>2</th>\n",
       "      <td>0x</td>\n",
       "      <td>18-08-2017 15:04:52</td>\n",
       "      <td>0.283789</td>\n",
       "    </tr>\n",
       "    <tr>\n",
       "      <th>3</th>\n",
       "      <td>0x</td>\n",
       "      <td>19-08-2017 15:05:08</td>\n",
       "      <td>0.511434</td>\n",
       "    </tr>\n",
       "    <tr>\n",
       "      <th>4</th>\n",
       "      <td>0x</td>\n",
       "      <td>20-08-2017 15:05:03</td>\n",
       "      <td>0.429522</td>\n",
       "    </tr>\n",
       "  </tbody>\n",
       "</table>\n",
       "</div>"
      ],
      "text/plain": [
       "  Coin                 Date     Price\n",
       "0   0x  16-08-2017 14:09:21  0.111725\n",
       "1   0x  17-08-2017 15:05:05  0.211486\n",
       "2   0x  18-08-2017 15:04:52  0.283789\n",
       "3   0x  19-08-2017 15:05:08  0.511434\n",
       "4   0x  20-08-2017 15:05:03  0.429522"
      ]
     },
     "execution_count": 27,
     "metadata": {},
     "output_type": "execute_result"
    }
   ],
   "source": [
    "trend.rename(\n",
    "    columns = {\n",
    "        'currency' : 'Coin',\n",
    "        'date': 'Date',\n",
    "        'price': 'Price'\n",
    "    },\n",
    "    inplace = True\n",
    ")\n",
    "trend.head()"
   ]
  },
  {
   "cell_type": "markdown",
   "id": "60e9690b",
   "metadata": {},
   "source": [
    "We need to make some changes to the coin names."
   ]
  },
  {
   "cell_type": "code",
   "execution_count": 28,
   "id": "f11cb1f8",
   "metadata": {},
   "outputs": [],
   "source": [
    "trend['Coin'] = trend.Coin.apply(rip)"
   ]
  },
  {
   "cell_type": "markdown",
   "id": "d2ec9784",
   "metadata": {},
   "source": [
    "Lastly, we can drop data that doesn't have corresponding data back in the first dataset."
   ]
  },
  {
   "cell_type": "code",
   "execution_count": 29,
   "id": "dc851a89",
   "metadata": {},
   "outputs": [],
   "source": [
    "index = list(df.index.get_level_values('Name'))\n",
    "trend = trend[trend.Coin.apply(lambda l: l in index)]\n",
    "trend.reset_index(\n",
    "    drop = True,\n",
    "    inplace = True\n",
    ")"
   ]
  },
  {
   "cell_type": "markdown",
   "id": "20cdbce5",
   "metadata": {},
   "source": [
    "Even though this dataset is quite long, there seems to be no better way to organize the same."
   ]
  },
  {
   "cell_type": "code",
   "execution_count": 30,
   "id": "96408a17",
   "metadata": {},
   "outputs": [],
   "source": [
    "trend.to_csv(\n",
    "    path_or_buf = '../Data/clean_cryptocurrency_prices_by_date.csv'\n",
    ")"
   ]
  }
 ],
 "metadata": {
  "hide_input": false,
  "kernelspec": {
   "display_name": "Python 3",
   "language": "python",
   "name": "python3"
  },
  "language_info": {
   "codemirror_mode": {
    "name": "ipython",
    "version": 3
   },
   "file_extension": ".py",
   "mimetype": "text/x-python",
   "name": "python",
   "nbconvert_exporter": "python",
   "pygments_lexer": "ipython3",
   "version": "3.8.8"
  },
  "latex_envs": {
   "LaTeX_envs_menu_present": true,
   "autoclose": false,
   "autocomplete": true,
   "bibliofile": "biblio.bib",
   "cite_by": "apalike",
   "current_citInitial": 1,
   "eqLabelWithNumbers": true,
   "eqNumInitial": 1,
   "hotkeys": {
    "equation": "Ctrl-E",
    "itemize": "Ctrl-I"
   },
   "labels_anchors": false,
   "latex_user_defs": false,
   "report_style_numbering": false,
   "user_envs_cfg": false
  },
  "varInspector": {
   "cols": {
    "lenName": 16,
    "lenType": 16,
    "lenVar": 40
   },
   "kernels_config": {
    "python": {
     "delete_cmd_postfix": "",
     "delete_cmd_prefix": "del ",
     "library": "var_list.py",
     "varRefreshCmd": "print(var_dic_list())"
    },
    "r": {
     "delete_cmd_postfix": ") ",
     "delete_cmd_prefix": "rm(",
     "library": "var_list.r",
     "varRefreshCmd": "cat(var_dic_list()) "
    }
   },
   "types_to_exclude": [
    "module",
    "function",
    "builtin_function_or_method",
    "instance",
    "_Feature"
   ],
   "window_display": false
  }
 },
 "nbformat": 4,
 "nbformat_minor": 5
}
