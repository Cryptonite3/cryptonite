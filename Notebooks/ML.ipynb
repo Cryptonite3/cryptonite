{
 "cells": [
  {
   "cell_type": "markdown",
   "metadata": {
    "tags": [],
    "cell_id": "00000-79891b1c-0766-4db2-a186-97212ee92c1f",
    "deepnote_cell_type": "markdown"
   },
   "source": "# Importing Necessary Libraries and Data",
   "execution_count": null
  },
  {
   "outputs": [
    {
     "output_type": "execute_result",
     "execution_count": 1,
     "data": {
      "application/vnd.deepnote.dataframe.v2+json": {
       "row_count": 5,
       "column_count": 3,
       "columns": [
        {
         "name": "Coin",
         "dtype": "object",
         "stats": {
          "unique_count": 1,
          "nan_count": 0,
          "categories": [
           {
            "name": "0x",
            "count": 5
           }
          ]
         }
        },
        {
         "name": "Date",
         "dtype": "datetime64[ns]",
         "stats": {
          "unique_count": 5,
          "nan_count": 0,
          "min": "2017-08-16 14:09:21",
          "max": "2017-08-20 15:05:03",
          "histogram": [
           {
            "bin_start": 1502892561000000000,
            "bin_end": 1502927455200000000,
            "count": 1
           },
           {
            "bin_start": 1502927455200000000,
            "bin_end": 1502962349400000000,
            "count": 0
           },
           {
            "bin_start": 1502962349400000000,
            "bin_end": 1502997243600000000,
            "count": 1
           },
           {
            "bin_start": 1502997243600000000,
            "bin_end": 1503032137800000000,
            "count": 0
           },
           {
            "bin_start": 1503032137800000000,
            "bin_end": 1503067032000000000,
            "count": 0
           },
           {
            "bin_start": 1503067032000000000,
            "bin_end": 1503101926200000000,
            "count": 1
           },
           {
            "bin_start": 1503101926200000000,
            "bin_end": 1503136820400000000,
            "count": 0
           },
           {
            "bin_start": 1503136820400000000,
            "bin_end": 1503171714600000000,
            "count": 1
           },
           {
            "bin_start": 1503171714600000000,
            "bin_end": 1503206608800000000,
            "count": 0
           },
           {
            "bin_start": 1503206608800000000,
            "bin_end": 1503241503000000000,
            "count": 1
           }
          ]
         }
        },
        {
         "name": "Price",
         "dtype": "float64",
         "stats": {
          "unique_count": 5,
          "nan_count": 0,
          "min": "0.111725",
          "max": "0.511434",
          "histogram": [
           {
            "bin_start": 0.111725,
            "bin_end": 0.1516959,
            "count": 1
           },
           {
            "bin_start": 0.1516959,
            "bin_end": 0.19166680000000003,
            "count": 0
           },
           {
            "bin_start": 0.19166680000000003,
            "bin_end": 0.2316377,
            "count": 1
           },
           {
            "bin_start": 0.2316377,
            "bin_end": 0.27160860000000003,
            "count": 0
           },
           {
            "bin_start": 0.27160860000000003,
            "bin_end": 0.3115795,
            "count": 1
           },
           {
            "bin_start": 0.3115795,
            "bin_end": 0.35155040000000004,
            "count": 0
           },
           {
            "bin_start": 0.35155040000000004,
            "bin_end": 0.3915213,
            "count": 0
           },
           {
            "bin_start": 0.3915213,
            "bin_end": 0.43149220000000005,
            "count": 1
           },
           {
            "bin_start": 0.43149220000000005,
            "bin_end": 0.4714631000000001,
            "count": 0
           },
           {
            "bin_start": 0.4714631000000001,
            "bin_end": 0.511434,
            "count": 1
           }
          ]
         }
        },
        {
         "name": "_deepnote_index_column",
         "dtype": "int64"
        }
       ],
       "rows_top": [
        {
         "Coin": "0x",
         "Date": "2017-08-16T14:09:21.000000",
         "Price": 0.111725,
         "_deepnote_index_column": 0
        },
        {
         "Coin": "0x",
         "Date": "2017-08-17T15:05:05.000000",
         "Price": 0.211486,
         "_deepnote_index_column": 1
        },
        {
         "Coin": "0x",
         "Date": "2017-08-18T15:04:52.000000",
         "Price": 0.283789,
         "_deepnote_index_column": 2
        },
        {
         "Coin": "0x",
         "Date": "2017-08-19T15:05:08.000000",
         "Price": 0.511434,
         "_deepnote_index_column": 3
        },
        {
         "Coin": "0x",
         "Date": "2017-08-20T15:05:03.000000",
         "Price": 0.429522,
         "_deepnote_index_column": 4
        }
       ],
       "rows_bottom": null
      },
      "text/plain": "  Coin                Date     Price\n0   0x 2017-08-16 14:09:21  0.111725\n1   0x 2017-08-17 15:05:05  0.211486\n2   0x 2017-08-18 15:04:52  0.283789\n3   0x 2017-08-19 15:05:08  0.511434\n4   0x 2017-08-20 15:05:03  0.429522",
      "text/html": "<div>\n<style scoped>\n    .dataframe tbody tr th:only-of-type {\n        vertical-align: middle;\n    }\n\n    .dataframe tbody tr th {\n        vertical-align: top;\n    }\n\n    .dataframe thead th {\n        text-align: right;\n    }\n</style>\n<table border=\"1\" class=\"dataframe\">\n  <thead>\n    <tr style=\"text-align: right;\">\n      <th></th>\n      <th>Coin</th>\n      <th>Date</th>\n      <th>Price</th>\n    </tr>\n  </thead>\n  <tbody>\n    <tr>\n      <th>0</th>\n      <td>0x</td>\n      <td>2017-08-16 14:09:21</td>\n      <td>0.111725</td>\n    </tr>\n    <tr>\n      <th>1</th>\n      <td>0x</td>\n      <td>2017-08-17 15:05:05</td>\n      <td>0.211486</td>\n    </tr>\n    <tr>\n      <th>2</th>\n      <td>0x</td>\n      <td>2017-08-18 15:04:52</td>\n      <td>0.283789</td>\n    </tr>\n    <tr>\n      <th>3</th>\n      <td>0x</td>\n      <td>2017-08-19 15:05:08</td>\n      <td>0.511434</td>\n    </tr>\n    <tr>\n      <th>4</th>\n      <td>0x</td>\n      <td>2017-08-20 15:05:03</td>\n      <td>0.429522</td>\n    </tr>\n  </tbody>\n</table>\n</div>"
     },
     "metadata": {}
    }
   ],
   "cell_type": "code",
   "source": "import pandas as pd\nfrom sklearn.linear_model import LinearRegression\nfrom sklearn.model_selection import train_test_split\nimport warnings\nwarnings.filterwarnings(\"ignore\")\n\ndf = pd.read_csv(\n    filepath_or_buffer = '../Data/clean_cryptocurrency_prices_by_date.csv',\n    index_col = 0,\n    parse_dates = [2],\n    infer_datetime_format = '%d-%m-%Y %H:%M:%S',\n    dayfirst = True\n)\ndf.head()",
   "metadata": {
    "tags": [],
    "cell_id": "00001-bf50f50c-2962-4646-bd44-34d26f51b90b",
    "deepnote_to_be_reexecuted": false,
    "source_hash": "2412167e",
    "execution_start": 1637179373514,
    "execution_millis": 8236,
    "deepnote_cell_type": "code"
   },
   "execution_count": 1
  },
  {
   "cell_type": "code",
   "source": "names = df.Coin.unique()\nlen(names)",
   "metadata": {
    "tags": [],
    "cell_id": "00002-822cfdc1-252c-4a01-901e-2d21d1b8a231",
    "deepnote_to_be_reexecuted": false,
    "source_hash": "2c063dfc",
    "execution_start": 1637179381741,
    "execution_millis": 59,
    "deepnote_cell_type": "code"
   },
   "outputs": [
    {
     "output_type": "execute_result",
     "execution_count": 2,
     "data": {
      "text/plain": "1142"
     },
     "metadata": {}
    }
   ],
   "execution_count": 2
  },
  {
   "cell_type": "code",
   "source": "coin = names[0]\ncoin",
   "metadata": {
    "tags": [],
    "cell_id": "00003-1c53af4e-4d69-4452-9656-f15128011258",
    "deepnote_to_be_reexecuted": false,
    "source_hash": "6b2992a3",
    "execution_start": 1637179381835,
    "execution_millis": 1,
    "deepnote_cell_type": "code"
   },
   "outputs": [
    {
     "output_type": "execute_result",
     "execution_count": 3,
     "data": {
      "text/plain": "'0x'"
     },
     "metadata": {}
    }
   ],
   "execution_count": 3
  },
  {
   "cell_type": "code",
   "source": "def price_predict(coin):\n    c = coin\n    assert coin in df.Coin.unique(), f'{coin} is not available . .'\n    coin = df[df.Coin == coin].copy()\n    coin.drop(columns = ['Coin'], inplace = True)\n    df.drop_duplicates(subset = 'Date', inplace = True, ignore_index = True)\n    coin.set_index('Date', inplace = True)\n    X, y = coin.shift(1).iloc[1:-1], coin.iloc[1:-1]\n    ml_model = LinearRegression()\n    ml_model.fit(X, y)\n    print('Coin - ', c)\n    print('Prediction - ', ml_model.predict([X.iloc[-1]])[0][0])\n    print('Actual Value - ', y.iloc[-1][0])",
   "metadata": {
    "tags": [],
    "cell_id": "00004-20d3d5f8-09f9-4ad4-bd72-59c9e1de3ccc",
    "deepnote_to_be_reexecuted": false,
    "source_hash": "70a4c246",
    "execution_start": 1637179441918,
    "execution_millis": 0,
    "deepnote_cell_type": "code"
   },
   "outputs": [],
   "execution_count": 6
  },
  {
   "cell_type": "code",
   "source": "price_predict('ethereum')",
   "metadata": {
    "tags": [],
    "cell_id": "00005-adce86f0-9f2d-4121-8d3e-129765c84cfe",
    "deepnote_to_be_reexecuted": false,
    "source_hash": "409c1727",
    "execution_start": 1637179443921,
    "execution_millis": 214,
    "deepnote_cell_type": "code"
   },
   "outputs": [
    {
     "name": "stdout",
     "text": "Coin -  ethereum\nPrediction -  780.7230281186847\nActual Value -  797.954\n",
     "output_type": "stream"
    }
   ],
   "execution_count": 7
  },
  {
   "cell_type": "code",
   "source": "",
   "metadata": {
    "tags": [],
    "cell_id": "00006-d07e077c-d08d-4f34-85c1-b30e7cb983a9",
    "deepnote_cell_type": "code"
   },
   "outputs": [],
   "execution_count": null
  },
  {
   "cell_type": "markdown",
   "source": "<a style='text-decoration:none;line-height:16px;display:flex;color:#5B5B62;padding:10px;justify-content:end;' href='https://deepnote.com?utm_source=created-in-deepnote-cell&projectId=c7c21189-3596-4bb0-b26b-62d9c9762408' target=\"_blank\">\n<img alt='Created in deepnote.com' style='display:inline;max-height:16px;margin:0px;margin-right:7.5px;' src='data:image/svg+xml;base64,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' > </img>\nCreated in <span style='font-weight:600;margin-left:4px;'>Deepnote</span></a>",
   "metadata": {
    "tags": [],
    "created_in_deepnote_cell": true,
    "deepnote_cell_type": "markdown"
   }
  }
 ],
 "nbformat": 4,
 "nbformat_minor": 2,
 "metadata": {
  "orig_nbformat": 2,
  "deepnote": {
   "is_reactive": false
  },
  "deepnote_notebook_id": "cbe58b94-8f21-476b-a795-0c1e102e55d0",
  "deepnote_execution_queue": []
 }
}