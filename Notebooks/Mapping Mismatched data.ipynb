{
 "cells": [
  {
   "cell_type": "markdown",
   "id": "e654b83c",
   "metadata": {},
   "source": [
    "# Loading Necessary Libraries and Data"
   ]
  },
  {
   "cell_type": "code",
   "execution_count": 1,
   "id": "b36f66bb",
   "metadata": {},
   "outputs": [],
   "source": [
    "import pandas as pd\n",
    "df = pd.read_csv(\n",
    "    filepath_or_buffer = '../data/all_currencies_table.csv',\n",
    "    index_col = 0\n",
    ")\n",
    "trend = pd.read_csv('../data/cryptocurrency_prices_by_date.csv')"
   ]
  },
  {
   "cell_type": "markdown",
   "id": "9b4c4596",
   "metadata": {},
   "source": [
    "## Mapping through prefix and replace functions"
   ]
  },
  {
   "cell_type": "code",
   "execution_count": 2,
   "id": "7c734cfc",
   "metadata": {},
   "outputs": [],
   "source": [
    "def rip(l: str):\n",
    "    for i in '()[]./+- ':\n",
    "        l = l.replace(i, '')\n",
    "    return l.lower()\n",
    "\n",
    "l1 = list(df.name.apply(rip))\n",
    "l1.sort()\n",
    "\n",
    "l2 = list(trend.currency.apply(rip).unique())\n",
    "l2.sort()\n",
    "\n",
    "t1 = [i for i in l1 if i not in l2]\n",
    "t2 = [i for i in l2 if i not in l1]\n",
    "\n",
    "modified_replace = {i: j for i in t1 for j in t2 if i.startswith(j) or j.startswith(i)}"
   ]
  },
  {
   "cell_type": "markdown",
   "id": "0f1f16e5",
   "metadata": {},
   "source": [
    "## Mapping through observation"
   ]
  },
  {
   "cell_type": "code",
   "execution_count": 3,
   "id": "80468e2b",
   "metadata": {},
   "outputs": [],
   "source": [
    "modified_replace.update(\n",
    "    {\n",
    "        'adex': 'adxnet',\n",
    "        'ambrosus': 'amber',\n",
    "        'ammoreloaded': 'ammorewards',\n",
    "        'atmchain': 'attentiontokenofmedia',\n",
    "        'crypto20': 'c20',\n",
    "        'cryptobullion': 'cryptogenicbullion',\n",
    "        'ebitcoin': 'ebtcnew',\n",
    "        'escroco': 'escoro',\n",
    "        'farstcoin': 'firstbitcoincapital',\n",
    "        'futurxe': 'futurexe',\n",
    "        'g3n': 'genstake',\n",
    "        'gaymoney': 'gaycoin',\n",
    "        'kickcoin': 'kickico',\n",
    "        'lbrycredits': 'librarycredit',\n",
    "        \"miners'rewar\": 'minersrewardtoken',\n",
    "        'monoeci': 'monacocoin',\n",
    "        'russianminer': 'russianminingcoin',\n",
    "        'spectreaidi': 'spectredividend',\n",
    "        'spectreaiut': 'spectreutility',\n",
    "        'unitedtrader': 'uttoken',\n",
    "        'wetrust': 'trust',\n",
    "        'zlancer': 'zcashgold'\n",
    "    }\n",
    ")"
   ]
  },
  {
   "cell_type": "markdown",
   "id": "f83b35e6",
   "metadata": {},
   "source": [
    "## Data to be removed"
   ]
  },
  {
   "cell_type": "code",
   "execution_count": 4,
   "id": "64e296b5",
   "metadata": {},
   "outputs": [],
   "source": [
    "df['name'] = df.name.apply(rip)\n",
    "\n",
    "df.replace(modified_replace, inplace = True)\n",
    "\n",
    "l1 = list(df.name.apply(rip))\n",
    "l1.sort()\n",
    "\n",
    "l2 = list(trend.currency.apply(rip).unique())\n",
    "l2.sort()\n",
    "\n",
    "t1 = [i for i in l1 if i not in l2]\n",
    "t2 = [i for i in l2 if i not in l1]\n",
    "\n",
    "remove = [i for i in t1 if i not in t2]"
   ]
  },
  {
   "cell_type": "markdown",
   "id": "eeda1eae",
   "metadata": {},
   "source": [
    "## Duplicates"
   ]
  },
  {
   "cell_type": "code",
   "execution_count": 5,
   "id": "07d7939a",
   "metadata": {},
   "outputs": [
    {
     "data": {
      "text/html": [
       "<div>\n",
       "<style scoped>\n",
       "    .dataframe tbody tr th:only-of-type {\n",
       "        vertical-align: middle;\n",
       "    }\n",
       "\n",
       "    .dataframe tbody tr th {\n",
       "        vertical-align: top;\n",
       "    }\n",
       "\n",
       "    .dataframe thead th {\n",
       "        text-align: right;\n",
       "    }\n",
       "</style>\n",
       "<table border=\"1\" class=\"dataframe\">\n",
       "  <thead>\n",
       "    <tr style=\"text-align: right;\">\n",
       "      <th></th>\n",
       "      <th>name</th>\n",
       "      <th>symbol</th>\n",
       "      <th>market_cap</th>\n",
       "      <th>price</th>\n",
       "      <th>circulating_supply</th>\n",
       "      <th>volume_24hr</th>\n",
       "      <th>1h</th>\n",
       "      <th>24h</th>\n",
       "      <th>7d</th>\n",
       "    </tr>\n",
       "    <tr>\n",
       "      <th>number</th>\n",
       "      <th></th>\n",
       "      <th></th>\n",
       "      <th></th>\n",
       "      <th></th>\n",
       "      <th></th>\n",
       "      <th></th>\n",
       "      <th></th>\n",
       "      <th></th>\n",
       "      <th></th>\n",
       "    </tr>\n",
       "  </thead>\n",
       "  <tbody>\n",
       "    <tr>\n",
       "      <th>83</th>\n",
       "      <td>enigma</td>\n",
       "      <td>ENG</td>\n",
       "      <td>2.421616e+08</td>\n",
       "      <td>3.235890</td>\n",
       "      <td>7.483617e+07</td>\n",
       "      <td>2.160550e+07</td>\n",
       "      <td>-3.12</td>\n",
       "      <td>36.52</td>\n",
       "      <td>19.37</td>\n",
       "    </tr>\n",
       "    <tr>\n",
       "      <th>242</th>\n",
       "      <td>hempcoin</td>\n",
       "      <td>THC</td>\n",
       "      <td>4.174616e+07</td>\n",
       "      <td>0.181128</td>\n",
       "      <td>2.304788e+08</td>\n",
       "      <td>3.773910e+05</td>\n",
       "      <td>-1.27</td>\n",
       "      <td>18.91</td>\n",
       "      <td>0.50</td>\n",
       "    </tr>\n",
       "    <tr>\n",
       "      <th>493</th>\n",
       "      <td>encryptotel</td>\n",
       "      <td>ETT</td>\n",
       "      <td>7.652512e+06</td>\n",
       "      <td>0.123167</td>\n",
       "      <td>6.213119e+07</td>\n",
       "      <td>8.636260e+02</td>\n",
       "      <td>-1.53</td>\n",
       "      <td>56.02</td>\n",
       "      <td>38.85</td>\n",
       "    </tr>\n",
       "    <tr>\n",
       "      <th>860</th>\n",
       "      <td>hempcoin</td>\n",
       "      <td>HMP</td>\n",
       "      <td>2.403202e+05</td>\n",
       "      <td>0.000177</td>\n",
       "      <td>1.356645e+09</td>\n",
       "      <td>5.746430e+02</td>\n",
       "      <td>-1.00</td>\n",
       "      <td>11.42</td>\n",
       "      <td>105.11</td>\n",
       "    </tr>\n",
       "    <tr>\n",
       "      <th>1054</th>\n",
       "      <td>enigma</td>\n",
       "      <td>XNG</td>\n",
       "      <td>1.979928e+05</td>\n",
       "      <td>0.343037</td>\n",
       "      <td>5.771763e+05</td>\n",
       "      <td>2.020970e+02</td>\n",
       "      <td>-0.99</td>\n",
       "      <td>18.05</td>\n",
       "      <td>2.58</td>\n",
       "    </tr>\n",
       "    <tr>\n",
       "      <th>1325</th>\n",
       "      <td>firstbitcoin</td>\n",
       "      <td>BIT</td>\n",
       "      <td>NaN</td>\n",
       "      <td>0.041009</td>\n",
       "      <td>NaN</td>\n",
       "      <td>7.879950e+03</td>\n",
       "      <td>-1.84</td>\n",
       "      <td>9.63</td>\n",
       "      <td>111.89</td>\n",
       "    </tr>\n",
       "    <tr>\n",
       "      <th>1383</th>\n",
       "      <td>firstbitcoin</td>\n",
       "      <td>BITCF</td>\n",
       "      <td>NaN</td>\n",
       "      <td>0.240117</td>\n",
       "      <td>NaN</td>\n",
       "      <td>1.186050e+03</td>\n",
       "      <td>-0.99</td>\n",
       "      <td>-32.45</td>\n",
       "      <td>8.73</td>\n",
       "    </tr>\n",
       "    <tr>\n",
       "      <th>1389</th>\n",
       "      <td>encryptotel</td>\n",
       "      <td>ETT</td>\n",
       "      <td>NaN</td>\n",
       "      <td>0.079232</td>\n",
       "      <td>NaN</td>\n",
       "      <td>9.495290e+02</td>\n",
       "      <td>-1.23</td>\n",
       "      <td>6.45</td>\n",
       "      <td>-2.17</td>\n",
       "    </tr>\n",
       "  </tbody>\n",
       "</table>\n",
       "</div>"
      ],
      "text/plain": [
       "                name symbol    market_cap     price  circulating_supply  \\\n",
       "number                                                                    \n",
       "83            enigma    ENG  2.421616e+08  3.235890        7.483617e+07   \n",
       "242         hempcoin    THC  4.174616e+07  0.181128        2.304788e+08   \n",
       "493      encryptotel    ETT  7.652512e+06  0.123167        6.213119e+07   \n",
       "860         hempcoin    HMP  2.403202e+05  0.000177        1.356645e+09   \n",
       "1054          enigma    XNG  1.979928e+05  0.343037        5.771763e+05   \n",
       "1325    firstbitcoin    BIT           NaN  0.041009                 NaN   \n",
       "1383    firstbitcoin  BITCF           NaN  0.240117                 NaN   \n",
       "1389     encryptotel    ETT           NaN  0.079232                 NaN   \n",
       "\n",
       "         volume_24hr    1h    24h      7d  \n",
       "number                                     \n",
       "83      2.160550e+07 -3.12  36.52   19.37  \n",
       "242     3.773910e+05 -1.27  18.91    0.50  \n",
       "493     8.636260e+02 -1.53  56.02   38.85  \n",
       "860     5.746430e+02 -1.00  11.42  105.11  \n",
       "1054    2.020970e+02 -0.99  18.05    2.58  \n",
       "1325    7.879950e+03 -1.84   9.63  111.89  \n",
       "1383    1.186050e+03 -0.99 -32.45    8.73  \n",
       "1389    9.495290e+02 -1.23   6.45   -2.17  "
      ]
     },
     "metadata": {},
     "output_type": "display_data"
    }
   ],
   "source": [
    "display(d := df[df.duplicated(subset = 'name', keep = False)])"
   ]
  },
  {
   "cell_type": "markdown",
   "id": "d818bd42",
   "metadata": {},
   "source": [
    "From the above 8 data points, we know that we'll be getting rid of the below 3.  \n",
    "Lets try finding whether the other ones have any more info related to symbol etc."
   ]
  },
  {
   "cell_type": "code",
   "execution_count": 6,
   "id": "dce9e1d2",
   "metadata": {},
   "outputs": [
    {
     "data": {
      "text/plain": [
       "['enigma', 'hempcoin']"
      ]
     },
     "metadata": {},
     "output_type": "display_data"
    }
   ],
   "source": [
    "display(d := list(d.name)[:2])"
   ]
  },
  {
   "cell_type": "code",
   "execution_count": 7,
   "id": "f53bd906",
   "metadata": {},
   "outputs": [
    {
     "name": "stdout",
     "output_type": "stream",
     "text": [
      "enigma enigma\n",
      "enigma enigmaproject\n",
      "hempcoin hempcoin\n",
      "hempcoin hempcoinhmp\n"
     ]
    }
   ],
   "source": [
    "for i in d:\n",
    "    for j in l2:\n",
    "        if i in j:\n",
    "            print(i, j)"
   ]
  },
  {
   "cell_type": "markdown",
   "id": "dfc11858",
   "metadata": {},
   "source": [
    "In hempcoin, we can clearly makeout that the 2nd one maps to hempcoinhmp through the symbol.  \n",
    "In enigma, we'll have to make an assumption that the 2nd one maps to hempcoinproject."
   ]
  },
  {
   "cell_type": "code",
   "execution_count": 8,
   "id": "592fd833",
   "metadata": {},
   "outputs": [],
   "source": [
    "d_replace = {\n",
    "    'enigma': 'enigmaproject',\n",
    "    'hempcoin': 'hempcoinhmp'\n",
    "}"
   ]
  },
  {
   "cell_type": "code",
   "execution_count": 9,
   "id": "2e5d8719",
   "metadata": {},
   "outputs": [],
   "source": [
    "pd.to_pickle([modified_replace, remove, d_replace], filepath_or_buffer = '../Data/Replacements.pkl')"
   ]
  }
 ],
 "metadata": {
  "hide_input": false,
  "kernelspec": {
   "display_name": "Python 3",
   "language": "python",
   "name": "python3"
  },
  "language_info": {
   "codemirror_mode": {
    "name": "ipython",
    "version": 3
   },
   "file_extension": ".py",
   "mimetype": "text/x-python",
   "name": "python",
   "nbconvert_exporter": "python",
   "pygments_lexer": "ipython3",
   "version": "3.8.8"
  },
  "latex_envs": {
   "LaTeX_envs_menu_present": true,
   "autoclose": false,
   "autocomplete": true,
   "bibliofile": "biblio.bib",
   "cite_by": "apalike",
   "current_citInitial": 1,
   "eqLabelWithNumbers": true,
   "eqNumInitial": 1,
   "hotkeys": {
    "equation": "Ctrl-E",
    "itemize": "Ctrl-I"
   },
   "labels_anchors": false,
   "latex_user_defs": false,
   "report_style_numbering": false,
   "user_envs_cfg": false
  },
  "varInspector": {
   "cols": {
    "lenName": 16,
    "lenType": 16,
    "lenVar": 40
   },
   "kernels_config": {
    "python": {
     "delete_cmd_postfix": "",
     "delete_cmd_prefix": "del ",
     "library": "var_list.py",
     "varRefreshCmd": "print(var_dic_list())"
    },
    "r": {
     "delete_cmd_postfix": ") ",
     "delete_cmd_prefix": "rm(",
     "library": "var_list.r",
     "varRefreshCmd": "cat(var_dic_list()) "
    }
   },
   "types_to_exclude": [
    "module",
    "function",
    "builtin_function_or_method",
    "instance",
    "_Feature"
   ],
   "window_display": false
  }
 },
 "nbformat": 4,
 "nbformat_minor": 5
}
