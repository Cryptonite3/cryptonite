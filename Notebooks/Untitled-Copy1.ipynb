{
 "cells": [
  {
   "cell_type": "code",
   "execution_count": 1,
   "id": "93ad2c4d",
   "metadata": {},
   "outputs": [],
   "source": [
    "import pandas as pd"
   ]
  },
  {
   "cell_type": "code",
   "execution_count": 2,
   "id": "b4d017cb",
   "metadata": {},
   "outputs": [],
   "source": [
    "df = pd.read_csv(\n",
    "    filepath_or_buffer = '../data/all_currencies_table.csv',\n",
    "    index_col = 0\n",
    ")\n",
    "trend = pd.read_csv('../data/cryptocurrency_prices_by_date.csv')"
   ]
  },
  {
   "cell_type": "code",
   "execution_count": 3,
   "id": "a42e8ec4",
   "metadata": {},
   "outputs": [],
   "source": [
    "df.drop(1389, inplace = True)"
   ]
  },
  {
   "cell_type": "code",
   "execution_count": 4,
   "id": "1a4f5fb4",
   "metadata": {},
   "outputs": [
    {
     "data": {
      "text/plain": [
       "number\n",
       "1                Bitcoin\n",
       "2               Ethereum\n",
       "3                 Ripple\n",
       "4           Bitcoin Cash\n",
       "5                Cardano\n",
       "              ...       \n",
       "1512       LiteCoin Gold\n",
       "1513                eBIT\n",
       "1514           Faceblock\n",
       "1515           Farstcoin\n",
       "1516    Decentralized...\n",
       "Name: name, Length: 1515, dtype: object"
      ]
     },
     "execution_count": 4,
     "metadata": {},
     "output_type": "execute_result"
    }
   ],
   "source": [
    "df.name"
   ]
  },
  {
   "cell_type": "code",
   "execution_count": 5,
   "id": "a45198ed",
   "metadata": {},
   "outputs": [
    {
     "data": {
      "text/plain": [
       "(1515,)"
      ]
     },
     "execution_count": 5,
     "metadata": {},
     "output_type": "execute_result"
    }
   ],
   "source": [
    "trend.currency.unique().shape"
   ]
  },
  {
   "cell_type": "code",
   "execution_count": 6,
   "id": "b044948a",
   "metadata": {},
   "outputs": [],
   "source": [
    "l1 = list(df.name.apply(lambda l: l.lower().replace('-', '').replace(' ', '')))\n",
    "l1.sort()"
   ]
  },
  {
   "cell_type": "code",
   "execution_count": 7,
   "id": "7d4efec2",
   "metadata": {},
   "outputs": [
    {
     "data": {
      "text/plain": [
       "<function str.replace(old, new, count=-1, /)>"
      ]
     },
     "execution_count": 7,
     "metadata": {},
     "output_type": "execute_result"
    }
   ],
   "source": [
    "x = 'x -x'\n",
    "x.replace"
   ]
  },
  {
   "cell_type": "code",
   "execution_count": 8,
   "id": "ca6896db",
   "metadata": {},
   "outputs": [],
   "source": [
    "l2 = list(trend.currency.apply(lambda l: l.lower().replace('-', '').replace(' ', '')).unique())\n",
    "l2.sort()"
   ]
  },
  {
   "cell_type": "code",
   "execution_count": 9,
   "id": "3d855f26",
   "metadata": {},
   "outputs": [],
   "source": [
    "t1 = [i for i in l1 if i not in l2]\n",
    "t2 = [i for i in l2 if i not in l1]"
   ]
  },
  {
   "cell_type": "code",
   "execution_count": 10,
   "id": "58d16e89",
   "metadata": {},
   "outputs": [
    {
     "data": {
      "text/plain": [
       "171"
      ]
     },
     "execution_count": 10,
     "metadata": {},
     "output_type": "execute_result"
    }
   ],
   "source": [
    "len(t1)"
   ]
  },
  {
   "cell_type": "code",
   "execution_count": 11,
   "id": "15229b31",
   "metadata": {},
   "outputs": [
    {
     "data": {
      "text/plain": [
       "['b2b', 'ecc', 'g3n', 'rex']"
      ]
     },
     "execution_count": 11,
     "metadata": {},
     "output_type": "execute_result"
    }
   ],
   "source": [
    "m1, m2 = min(t1, key = lambda l: len(l)), min(t2, key = lambda l: len(l))\n",
    "list(filter(lambda l: len(l) == len(m1), t1))"
   ]
  },
  {
   "cell_type": "code",
   "execution_count": 12,
   "id": "ad602f36",
   "metadata": {},
   "outputs": [
    {
     "data": {
      "text/plain": [
       "['c20', 'rlc']"
      ]
     },
     "execution_count": 12,
     "metadata": {},
     "output_type": "execute_result"
    }
   ],
   "source": [
    "list(filter(lambda l: len(l) == len(m2), t2))"
   ]
  },
  {
   "cell_type": "code",
   "execution_count": 13,
   "id": "414123e0",
   "metadata": {},
   "outputs": [],
   "source": [
    "dots = list(filter(lambda l: '...' in l, t1))"
   ]
  },
  {
   "cell_type": "code",
   "execution_count": 14,
   "id": "aba291d4",
   "metadata": {},
   "outputs": [
    {
     "name": "stdout",
     "output_type": "stream",
     "text": [
      "acceleratorn... acceleratornetwork\n",
      "acuteanglec... acuteanglecloud\n",
      "advancedinte... advancedinternetblocks\n",
      "basicattenti... basicattentiontoken\n",
      "billionairet... billionairetoken\n",
      "bitcoinlight... bitcoinlightning\n",
      "circuitsofv... circuitsofvalue\n",
      "commodityad... commodityadnetwork\n",
      "contentanda... contentandadnetwork\n",
      "cryptopiafees... cryptopiafeeshares\n",
      "cryptoworldx... cryptoworldxtoken\n",
      "cthulhuoffer... cthulhuofferings\n",
      "decentralized... decentralizeduniversalbasicincome\n",
      "digitalbulli... digitalbulliongold\n",
      "digitaldevelo... digitaldevelopersfund\n",
      "digitalmoney... digitalmoneybits\n",
      "dynamictradi... dynamictradingrights\n",
      "electronicpk... electronicpkchain\n",
      "ethereummovi... ethereummovieventure\n",
      "experiencepo... experiencepoints\n",
      "firstbitcoin... firstbitcoincapital\n",
      "globalcurren... globalcurrencyreserve\n",
      "goldpressed... goldpressedlatinum\n",
      "goldrewardt... goldrewardtoken\n",
      "growersinter... growersinternational\n",
      "hackspacecap... hackspacecapital\n",
      "happycreator... happycreatorcoin\n",
      "harvestmaste... harvestmasternodecoin\n",
      "healthmutual... healthmutualsociety\n",
      "highperforma... highperformanceblockchain\n",
      "independentm... independentmoneysystem\n",
      "infinityecon... infinityeconomics\n",
      "intelligentt... intelligenttradingtech\n",
      "international... internationaldiamond\n",
      "internetnode... internetnodetoken\n",
      "internetofp... internetofpeople\n",
      "internetoft... internetofthings\n",
      "interstellar... interstellarholdings\n",
      "lightningbit... lightningbitcoin\n",
      "matrixainet... matrixainetwork\n",
      "measurableda... measurabledatatoken\n",
      "moedaloyalty... moedaloyaltypoints\n",
      "opentrading... opentradingnetwork\n",
      "pabyosicoin... pabyosicoinspecial\n",
      "philosophers... philosopherstones\n",
      "presidentjoh... presidentjohnson\n",
      "profileutili... profileutilitytoken\n",
      "quantumresis... quantumresistantledger\n",
      "raidennetwor... raidennetworktoken\n",
      "rasputinonli... rasputinonlinecoin\n",
      "ripiocredit... ripiocreditnetwork\n",
      "royalkingdom... royalkingdomcoin\n",
      "safeexchange... safeexchangecoin\n",
      "smartinvestm... smartinvestmentfundtoken\n",
      "speedmining... speedminingservice\n",
      "theveganini... theveganinitiative\n",
      "titaniumbloc... titaniumblockchain\n",
      "trinitynetwo... trinitynetworkcredit\n",
      "ultimatesecu... ultimatesecurecash\n",
      "universalcur... universalcurrency\n",
      "universalroya... universalroyalcoin\n",
      "uselessether... uselessethereumtoken\n",
      "virtaunique... virtauniquecoin\n",
      "wavescommuni... wavescommunitytoken\n"
     ]
    }
   ],
   "source": [
    "for i in dots:\n",
    "    for j in t2:\n",
    "        if j.startswith(i[:-3]):\n",
    "            print(i, j)"
   ]
  },
  {
   "cell_type": "code",
   "execution_count": 15,
   "id": "f67cce19",
   "metadata": {},
   "outputs": [
    {
     "data": {
      "text/plain": [
       "77"
      ]
     },
     "execution_count": 15,
     "metadata": {},
     "output_type": "execute_result"
    }
   ],
   "source": [
    "len(dots)"
   ]
  },
  {
   "cell_type": "code",
   "execution_count": 17,
   "id": "0ef70491",
   "metadata": {},
   "outputs": [],
   "source": [
    "dot = {i: j for i in dots for j in t2 if j.startswith(i[:-3])}"
   ]
  },
  {
   "cell_type": "code",
   "execution_count": 18,
   "id": "9ebd6877",
   "metadata": {},
   "outputs": [
    {
     "data": {
      "text/plain": [
       "64"
      ]
     },
     "execution_count": 18,
     "metadata": {},
     "output_type": "execute_result"
    }
   ],
   "source": [
    "len(dot)"
   ]
  },
  {
   "cell_type": "code",
   "execution_count": 21,
   "id": "edd30d62",
   "metadata": {},
   "outputs": [
    {
     "data": {
      "text/plain": [
       "['encryptotel', 'encryptoteleth']"
      ]
     },
     "execution_count": 21,
     "metadata": {},
     "output_type": "execute_result"
    }
   ],
   "source": [
    "list(filter(lambda l: 'encrypto' in l, l2))"
   ]
  },
  {
   "cell_type": "code",
   "execution_count": 22,
   "id": "ba5b647a",
   "metadata": {},
   "outputs": [
    {
     "data": {
      "text/plain": [
       "['hempcoin', 'hempcoinhmp']"
      ]
     },
     "execution_count": 22,
     "metadata": {},
     "output_type": "execute_result"
    }
   ],
   "source": [
    "list(filter(lambda l: 'hempcoin' in l, l2))"
   ]
  },
  {
   "cell_type": "code",
   "execution_count": 23,
   "id": "384c6981",
   "metadata": {},
   "outputs": [
    {
     "data": {
      "text/plain": [
       "['enigma', 'enigmaproject']"
      ]
     },
     "execution_count": 23,
     "metadata": {},
     "output_type": "execute_result"
    }
   ],
   "source": [
    "list(filter(lambda l: 'enigma' in l, l2))"
   ]
  },
  {
   "cell_type": "code",
   "execution_count": 29,
   "id": "855bfd82",
   "metadata": {
    "scrolled": false
   },
   "outputs": [
    {
     "name": "stdout",
     "output_type": "stream",
     "text": [
      "acceleratorn... 1337coin\n",
      "acuteanglec... acceleratornetwork\n",
      "adex acuteanglecloud\n",
      "advancedinte... advancedinternetblocks\n",
      "agrello adxnet\n",
      "aidoctor agrellodelta\n",
      "alphabit aidoc\n",
      "altcoin alphabitcoinfund\n",
      "ambrosus altcoinalt\n",
      "ammoreloaded altcommunitycoin\n",
      "applecoin amber\n",
      "atmchain ammorewards\n",
      "b2b applecoinapw\n",
      "basicattenti... attentiontokenofmedia\n",
      "bela b2bx\n",
      "billionairet... basicattentiontoken\n",
      "bitcoinlight... belacoin\n",
      "bitjob billionairetoken\n",
      "blockmasoncr... bitcoinlightning\n",
      "bloom blockmason\n",
      "blue bloomtoken\n",
      "boat brat\n",
      "brother bt2cst\n",
      "bt2[cst] byteball\n",
      "byteballbytes bytecoinbcn\n",
      "bytecoin c20\n",
      "circuitsofv... circuitsofvalue\n",
      "cofound.it cofoundit\n",
      "coimatic2.0 coimatic2\n",
      "coimatic3.0 coimatic3\n",
      "coin(o) coin\n",
      "coin2.1 coin21\n",
      "commodityad... commodityadnetwork\n",
      "comsa[eth] comsaeth\n",
      "comsa[xem] comsaxem\n",
      "contentanda... contentandadnetwork\n",
      "crypto20 cryptogenicbullion\n",
      "cryptobullion cryptopiafeeshares\n",
      "cryptoinsight cryptoworldxtoken\n",
      "cryptopiafees... cthulhuofferings\n",
      "cryptoworldx... daocasino\n",
      "cthulhuoffer... decentralizeduniversalbasicincome\n",
      "dao.casino denariusdnr\n",
      "decentralized... digitalbulliongold\n",
      "denarius digitaldevelopersfund\n",
      "digitalbulli... digitalmoneybits\n",
      "digitaldevelo... doubloon\n",
      "digitalmoney... dubaicoindbix\n",
      "dubaicoin dynamictradingrights\n",
      "dynamictradi... eboostcoin\n",
      "ebitcoin ebtcnew\n",
      "eboost eccoin\n",
      "ecc elcoinel\n",
      "elcoin electronicpkchain\n",
      "electronicpk... emerald\n",
      "elite encryptotel\n",
      "emeraldcrypto encryptoteleth\n",
      "encryptotel[... enigmaproject\n",
      "escroco escoro\n",
      "ethereummovi... ethereumblue\n",
      "experiencepo... ethereummovieventure\n",
      "farstcoin experiencepoints\n",
      "filecoin[fut... filecoin\n",
      "firstbitcoin... firstbitcoincapital\n",
      "futurxe futurexe\n",
      "g3n game\n",
      "game.com gamechain\n",
      "gamechainsystem gaycoin\n",
      "gaymoney genstake\n",
      "getprotocol globalcurrencyreserve\n",
      "globalcurren... gnosisgno\n",
      "gnosis goldpressedlatinum\n",
      "goldpressed... goldrewardtoken\n",
      "goldrewardt... golemnetworktokens\n",
      "golem granitecoin\n",
      "granite grid\n",
      "grid+ growersinternational\n",
      "growersinter... guppy\n",
      "hackspacecap... gutstickets\n",
      "happycreator... hackspacecapital\n",
      "harmonycoin happycreatorcoin\n",
      "harvestmaste... harmonycoinhmc\n",
      "hawala.today harvestmasternodecoin\n",
      "healthmutual... hawalatoday\n",
      "heat healthmutualsociety\n",
      "highperforma... heatledger\n",
      "html5coin hempcoinhmp\n",
      "i/ocoin highperformanceblockchain\n",
      "iexecrlc independentmoneysystem\n",
      "independentm... infinityeconomics\n",
      "infinityecon... insanecoininsn\n",
      "insanecoin intelligenttradingtech\n",
      "intelligentt... internationaldiamond\n",
      "international... internetnodetoken\n",
      "internetnode... internetofpeople\n",
      "internetofp... internetofthings\n",
      "internetoft... interstellarholdings\n",
      "interstellar... iocoin\n",
      "karbo karbowanec\n",
      "kickcoin kickico\n",
      "kore korecoin\n",
      "lbrycredits librarycredit\n",
      "lightningbit... lightningbitcoin\n",
      "macro macro1\n",
      "matchpool matrixainetwork\n",
      "matrixainet... mazacoin\n",
      "maza measurabledatatoken\n",
      "measurableda... memetic\n",
      "memetic/pep... metaverse\n",
      "metaverseetp minersrewardtoken\n",
      "miners'rewar... moedaloyaltypoints\n",
      "moedaloyalty... monacocoin\n",
      "moneta moneta2\n",
      "monoeci nebulastoken\n",
      "nano ongsocial\n",
      "nebulas opentradingnetwork\n",
      "ong.social pabyosicoinspecial\n",
      "opentrading... pandacoinpnd\n",
      "pabyosicoin... paycoin2\n",
      "pandacoin peerplaysppy\n",
      "paycoin philosopherstones\n",
      "peerplays poet\n",
      "philosophers... presidentjohnson\n",
      "po.et primalbase\n",
      "presidentjoh... profileutilitytoken\n",
      "primalbasetoken quantumresistantledger\n",
      "profileutili... raiblocks\n",
      "quantumresis... raidennetworktoken\n",
      "raidennetwor... rasputinonlinecoin\n",
      "rasputinonli... rawcoin2\n",
      "rawcoin realestatetokens\n",
      "rex ripiocreditnetwork\n",
      "ripiocredit... rlc\n",
      "royalkingdom... royalkingdomcoin\n",
      "rupaya[old] rupayaold\n",
      "russianminer... russianminingcoin\n",
      "safeexchange... safeexchangecoin\n",
      "santimentnet... santiment\n",
      "scry.info scryinfo\n",
      "shield shieldxsh\n",
      "smartinvestm... smartinvestmentfundtoken\n",
      "socialcoin socialcoinsocc\n",
      "sono spectredividend\n",
      "spectre.aidi... spectreutility\n",
      "spectre.aiut... speedminingservice\n",
      "speedmining... studentcoin\n",
      "supernet supernetunity\n",
      "swarm swarmfund\n",
      "tattoocoin(l... tattoocoin\n",
      "tattoocoin(s... tattoocoinlimited\n",
      "tezos(prela... tezos\n",
      "theveganini... theveganinitiative\n",
      "titaniumbloc... titaniumblockchain\n",
      "topazcoin topaz\n",
      "torcoin torcointor\n",
      "tridentgroup trackr\n",
      "trinitynetwo... trident\n",
      "u.cash trinitynetworkcredit\n",
      "ultimatesecu... trust\n",
      "unitedtrader... ucash\n",
      "universalcur... ultimatesecurecash\n",
      "universalroya... universalcurrency\n",
      "uselessether... universalroyalcoin\n",
      "vectorai uselessethereumtoken\n",
      "virtaunique... uttoken\n",
      "voise vector\n",
      "vsync virtauniquecoin\n",
      "wavescommuni... voisecom\n",
      "wetrust vsyncvsx\n",
      "womencoin wavescommunitytoken\n",
      "zlancer women\n"
     ]
    }
   ],
   "source": [
    "for i in range(171):\n",
    "    print(t1[i], t2[i])"
   ]
  },
  {
   "cell_type": "code",
   "execution_count": 30,
   "id": "b29482b6",
   "metadata": {},
   "outputs": [
    {
     "data": {
      "text/plain": [
       "'zcashgold'"
      ]
     },
     "execution_count": 30,
     "metadata": {},
     "output_type": "execute_result"
    }
   ],
   "source": [
    "t2[171]"
   ]
  },
  {
   "cell_type": "code",
   "execution_count": 31,
   "id": "54ebff93",
   "metadata": {
    "scrolled": true
   },
   "outputs": [
    {
     "data": {
      "text/plain": [
       "{'acceleratorn...': 'acceleratornetwork',\n",
       " 'acuteanglec...': 'acuteanglecloud',\n",
       " 'advancedinte...': 'advancedinternetblocks',\n",
       " 'basicattenti...': 'basicattentiontoken',\n",
       " 'billionairet...': 'billionairetoken',\n",
       " 'bitcoinlight...': 'bitcoinlightning',\n",
       " 'circuitsofv...': 'circuitsofvalue',\n",
       " 'commodityad...': 'commodityadnetwork',\n",
       " 'contentanda...': 'contentandadnetwork',\n",
       " 'cryptopiafees...': 'cryptopiafeeshares',\n",
       " 'cryptoworldx...': 'cryptoworldxtoken',\n",
       " 'cthulhuoffer...': 'cthulhuofferings',\n",
       " 'decentralized...': 'decentralizeduniversalbasicincome',\n",
       " 'digitalbulli...': 'digitalbulliongold',\n",
       " 'digitaldevelo...': 'digitaldevelopersfund',\n",
       " 'digitalmoney...': 'digitalmoneybits',\n",
       " 'dynamictradi...': 'dynamictradingrights',\n",
       " 'electronicpk...': 'electronicpkchain',\n",
       " 'ethereummovi...': 'ethereummovieventure',\n",
       " 'experiencepo...': 'experiencepoints',\n",
       " 'firstbitcoin...': 'firstbitcoincapital',\n",
       " 'globalcurren...': 'globalcurrencyreserve',\n",
       " 'goldpressed...': 'goldpressedlatinum',\n",
       " 'goldrewardt...': 'goldrewardtoken',\n",
       " 'growersinter...': 'growersinternational',\n",
       " 'hackspacecap...': 'hackspacecapital',\n",
       " 'happycreator...': 'happycreatorcoin',\n",
       " 'harvestmaste...': 'harvestmasternodecoin',\n",
       " 'healthmutual...': 'healthmutualsociety',\n",
       " 'highperforma...': 'highperformanceblockchain',\n",
       " 'independentm...': 'independentmoneysystem',\n",
       " 'infinityecon...': 'infinityeconomics',\n",
       " 'intelligentt...': 'intelligenttradingtech',\n",
       " 'international...': 'internationaldiamond',\n",
       " 'internetnode...': 'internetnodetoken',\n",
       " 'internetofp...': 'internetofpeople',\n",
       " 'internetoft...': 'internetofthings',\n",
       " 'interstellar...': 'interstellarholdings',\n",
       " 'lightningbit...': 'lightningbitcoin',\n",
       " 'matrixainet...': 'matrixainetwork',\n",
       " 'measurableda...': 'measurabledatatoken',\n",
       " 'moedaloyalty...': 'moedaloyaltypoints',\n",
       " 'opentrading...': 'opentradingnetwork',\n",
       " 'pabyosicoin...': 'pabyosicoinspecial',\n",
       " 'philosophers...': 'philosopherstones',\n",
       " 'presidentjoh...': 'presidentjohnson',\n",
       " 'profileutili...': 'profileutilitytoken',\n",
       " 'quantumresis...': 'quantumresistantledger',\n",
       " 'raidennetwor...': 'raidennetworktoken',\n",
       " 'rasputinonli...': 'rasputinonlinecoin',\n",
       " 'ripiocredit...': 'ripiocreditnetwork',\n",
       " 'royalkingdom...': 'royalkingdomcoin',\n",
       " 'safeexchange...': 'safeexchangecoin',\n",
       " 'smartinvestm...': 'smartinvestmentfundtoken',\n",
       " 'speedmining...': 'speedminingservice',\n",
       " 'theveganini...': 'theveganinitiative',\n",
       " 'titaniumbloc...': 'titaniumblockchain',\n",
       " 'trinitynetwo...': 'trinitynetworkcredit',\n",
       " 'ultimatesecu...': 'ultimatesecurecash',\n",
       " 'universalcur...': 'universalcurrency',\n",
       " 'universalroya...': 'universalroyalcoin',\n",
       " 'uselessether...': 'uselessethereumtoken',\n",
       " 'virtaunique...': 'virtauniquecoin',\n",
       " 'wavescommuni...': 'wavescommunitytoken'}"
      ]
     },
     "execution_count": 31,
     "metadata": {},
     "output_type": "execute_result"
    }
   ],
   "source": [
    "dot"
   ]
  },
  {
   "cell_type": "code",
   "execution_count": null,
   "id": "1608f66c",
   "metadata": {},
   "outputs": [],
   "source": [
    "pd.to_pickle(obj = dot, filepath_or_buffer = '../Data/')"
   ]
  }
 ],
 "metadata": {
  "hide_input": false,
  "kernelspec": {
   "display_name": "Python 3",
   "language": "python",
   "name": "python3"
  },
  "language_info": {
   "codemirror_mode": {
    "name": "ipython",
    "version": 3
   },
   "file_extension": ".py",
   "mimetype": "text/x-python",
   "name": "python",
   "nbconvert_exporter": "python",
   "pygments_lexer": "ipython3",
   "version": "3.8.8"
  },
  "latex_envs": {
   "LaTeX_envs_menu_present": true,
   "autoclose": false,
   "autocomplete": true,
   "bibliofile": "biblio.bib",
   "cite_by": "apalike",
   "current_citInitial": 1,
   "eqLabelWithNumbers": true,
   "eqNumInitial": 1,
   "hotkeys": {
    "equation": "Ctrl-E",
    "itemize": "Ctrl-I"
   },
   "labels_anchors": false,
   "latex_user_defs": false,
   "report_style_numbering": false,
   "user_envs_cfg": false
  },
  "varInspector": {
   "cols": {
    "lenName": 16,
    "lenType": 16,
    "lenVar": 40
   },
   "kernels_config": {
    "python": {
     "delete_cmd_postfix": "",
     "delete_cmd_prefix": "del ",
     "library": "var_list.py",
     "varRefreshCmd": "print(var_dic_list())"
    },
    "r": {
     "delete_cmd_postfix": ") ",
     "delete_cmd_prefix": "rm(",
     "library": "var_list.r",
     "varRefreshCmd": "cat(var_dic_list()) "
    }
   },
   "types_to_exclude": [
    "module",
    "function",
    "builtin_function_or_method",
    "instance",
    "_Feature"
   ],
   "window_display": false
  }
 },
 "nbformat": 4,
 "nbformat_minor": 5
}
