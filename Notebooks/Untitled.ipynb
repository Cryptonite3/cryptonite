{
 "cells": [
  {
   "cell_type": "code",
   "execution_count": 1,
   "id": "93ad2c4d",
   "metadata": {},
   "outputs": [],
   "source": [
    "import pandas as pd"
   ]
  },
  {
   "cell_type": "code",
   "execution_count": 2,
   "id": "b4d017cb",
   "metadata": {},
   "outputs": [],
   "source": [
    "df = pd.read_csv(\n",
    "    filepath_or_buffer = '../data/all_currencies_table.csv',\n",
    "    index_col = 0\n",
    ")\n",
    "trend = pd.read_csv('../data/cryptocurrency_prices_by_date.csv')"
   ]
  },
  {
   "cell_type": "code",
   "execution_count": 3,
   "id": "a42e8ec4",
   "metadata": {},
   "outputs": [],
   "source": [
    "df.drop(1389, inplace = True)"
   ]
  },
  {
   "cell_type": "code",
   "execution_count": 4,
   "id": "1a4f5fb4",
   "metadata": {},
   "outputs": [
    {
     "data": {
      "text/plain": [
       "number\n",
       "1                Bitcoin\n",
       "2               Ethereum\n",
       "3                 Ripple\n",
       "4           Bitcoin Cash\n",
       "5                Cardano\n",
       "              ...       \n",
       "1512       LiteCoin Gold\n",
       "1513                eBIT\n",
       "1514           Faceblock\n",
       "1515           Farstcoin\n",
       "1516    Decentralized...\n",
       "Name: name, Length: 1515, dtype: object"
      ]
     },
     "execution_count": 4,
     "metadata": {},
     "output_type": "execute_result"
    }
   ],
   "source": [
    "df.name"
   ]
  },
  {
   "cell_type": "code",
   "execution_count": 5,
   "id": "a45198ed",
   "metadata": {},
   "outputs": [
    {
     "data": {
      "text/plain": [
       "(1515,)"
      ]
     },
     "execution_count": 5,
     "metadata": {},
     "output_type": "execute_result"
    }
   ],
   "source": [
    "trend.currency.unique().shape"
   ]
  },
  {
   "cell_type": "code",
   "execution_count": 6,
   "id": "b044948a",
   "metadata": {},
   "outputs": [],
   "source": [
    "l1 = list(df.name.apply(lambda l: l.lower().replace('-', '').replace(' ', '')))\n",
    "l1.sort()"
   ]
  },
  {
   "cell_type": "code",
   "execution_count": 7,
   "id": "7d4efec2",
   "metadata": {},
   "outputs": [
    {
     "data": {
      "text/plain": [
       "<function str.replace(old, new, count=-1, /)>"
      ]
     },
     "execution_count": 7,
     "metadata": {},
     "output_type": "execute_result"
    }
   ],
   "source": [
    "x = 'x -x'\n",
    "x.replace"
   ]
  },
  {
   "cell_type": "code",
   "execution_count": 8,
   "id": "ca6896db",
   "metadata": {},
   "outputs": [],
   "source": [
    "l2 = list(trend.currency.apply(lambda l: l.lower().replace('-', '').replace(' ', '')).unique())\n",
    "l2.sort()"
   ]
  },
  {
   "cell_type": "code",
   "execution_count": 9,
   "id": "3d855f26",
   "metadata": {},
   "outputs": [],
   "source": [
    "t1 = [i for i in l1 if i not in l2]\n",
    "t2 = [i for i in l2 if i not in l1]"
   ]
  },
  {
   "cell_type": "code",
   "execution_count": 13,
   "id": "58d16e89",
   "metadata": {},
   "outputs": [
    {
     "data": {
      "text/plain": [
       "171"
      ]
     },
     "execution_count": 13,
     "metadata": {},
     "output_type": "execute_result"
    }
   ],
   "source": [
    "len(t1)"
   ]
  },
  {
   "cell_type": "code",
   "execution_count": 11,
   "id": "15229b31",
   "metadata": {},
   "outputs": [
    {
     "data": {
      "text/plain": [
       "['b2b', 'ecc', 'g3n', 'rex']"
      ]
     },
     "execution_count": 11,
     "metadata": {},
     "output_type": "execute_result"
    }
   ],
   "source": [
    "m1, m2 = min(t1, key = lambda l: len(l)), min(t2, key = lambda l: len(l))\n",
    "list(filter(lambda l: len(l) == len(m1), t1))"
   ]
  },
  {
   "cell_type": "code",
   "execution_count": 12,
   "id": "ad602f36",
   "metadata": {},
   "outputs": [
    {
     "data": {
      "text/plain": [
       "['c20', 'rlc']"
      ]
     },
     "execution_count": 12,
     "metadata": {},
     "output_type": "execute_result"
    }
   ],
   "source": [
    "list(filter(lambda l: len(l) == len(m2), t2))"
   ]
  },
  {
   "cell_type": "code",
   "execution_count": 16,
   "id": "414123e0",
   "metadata": {},
   "outputs": [],
   "source": [
    "dots = list(filter(lambda l: '...' in l, t1))"
   ]
  },
  {
   "cell_type": "code",
   "execution_count": 23,
   "id": "aba291d4",
   "metadata": {},
   "outputs": [
    {
     "name": "stdout",
     "output_type": "stream",
     "text": [
      "acceleratorn... acceleratornetwork\n",
      "acuteanglec... acuteanglecloud\n",
      "advancedinte... advancedinternetblocks\n",
      "basicattenti... basicattentiontoken\n",
      "billionairet... billionairetoken\n",
      "bitcoinlight... bitcoinlightning\n",
      "circuitsofv... circuitsofvalue\n",
      "commodityad... commodityadnetwork\n",
      "contentanda... contentandadnetwork\n",
      "cryptopiafees... cryptopiafeeshares\n",
      "cryptoworldx... cryptoworldxtoken\n",
      "cthulhuoffer... cthulhuofferings\n",
      "decentralized... decentralizeduniversalbasicincome\n",
      "digitalbulli... digitalbulliongold\n",
      "digitaldevelo... digitaldevelopersfund\n",
      "digitalmoney... digitalmoneybits\n",
      "dynamictradi... dynamictradingrights\n",
      "electronicpk... electronicpkchain\n",
      "ethereummovi... ethereummovieventure\n",
      "experiencepo... experiencepoints\n",
      "firstbitcoin... firstbitcoincapital\n",
      "globalcurren... globalcurrencyreserve\n",
      "goldpressed... goldpressedlatinum\n",
      "goldrewardt... goldrewardtoken\n",
      "growersinter... growersinternational\n",
      "hackspacecap... hackspacecapital\n",
      "happycreator... happycreatorcoin\n",
      "harvestmaste... harvestmasternodecoin\n",
      "healthmutual... healthmutualsociety\n",
      "highperforma... highperformanceblockchain\n",
      "independentm... independentmoneysystem\n",
      "infinityecon... infinityeconomics\n",
      "intelligentt... intelligenttradingtech\n",
      "international... internationaldiamond\n",
      "internetnode... internetnodetoken\n",
      "internetofp... internetofpeople\n",
      "internetoft... internetofthings\n",
      "interstellar... interstellarholdings\n",
      "lightningbit... lightningbitcoin\n",
      "matrixainet... matrixainetwork\n",
      "measurableda... measurabledatatoken\n",
      "moedaloyalty... moedaloyaltypoints\n",
      "opentrading... opentradingnetwork\n",
      "pabyosicoin... pabyosicoinspecial\n",
      "philosophers... philosopherstones\n",
      "presidentjoh... presidentjohnson\n",
      "profileutili... profileutilitytoken\n",
      "quantumresis... quantumresistantledger\n",
      "raidennetwor... raidennetworktoken\n",
      "rasputinonli... rasputinonlinecoin\n",
      "ripiocredit... ripiocreditnetwork\n",
      "royalkingdom... royalkingdomcoin\n",
      "safeexchange... safeexchangecoin\n",
      "smartinvestm... smartinvestmentfundtoken\n",
      "speedmining... speedminingservice\n",
      "theveganini... theveganinitiative\n",
      "titaniumbloc... titaniumblockchain\n",
      "trinitynetwo... trinitynetworkcredit\n",
      "ultimatesecu... ultimatesecurecash\n",
      "universalcur... universalcurrency\n",
      "universalroya... universalroyalcoin\n",
      "uselessether... uselessethereumtoken\n",
      "virtaunique... virtauniquecoin\n",
      "wavescommuni... wavescommunitytoken\n"
     ]
    }
   ],
   "source": [
    "for i in dots:\n",
    "    for j in t2:\n",
    "        if j.startswith(i[:-3]):\n",
    "            print(i, j)"
   ]
  },
  {
   "cell_type": "code",
   "execution_count": 24,
   "id": "9b543d9c",
   "metadata": {},
   "outputs": [
    {
     "data": {
      "text/plain": [
       "64"
      ]
     },
     "execution_count": 24,
     "metadata": {},
     "output_type": "execute_result"
    }
   ],
   "source": [
    "len('''acceleratorn... acceleratornetwork\n",
    "acuteanglec... acuteanglecloud\n",
    "advancedinte... advancedinternetblocks\n",
    "basicattenti... basicattentiontoken\n",
    "billionairet... billionairetoken\n",
    "bitcoinlight... bitcoinlightning\n",
    "circuitsofv... circuitsofvalue\n",
    "commodityad... commodityadnetwork\n",
    "contentanda... contentandadnetwork\n",
    "cryptopiafees... cryptopiafeeshares\n",
    "cryptoworldx... cryptoworldxtoken\n",
    "cthulhuoffer... cthulhuofferings\n",
    "decentralized... decentralizeduniversalbasicincome\n",
    "digitalbulli... digitalbulliongold\n",
    "digitaldevelo... digitaldevelopersfund\n",
    "digitalmoney... digitalmoneybits\n",
    "dynamictradi... dynamictradingrights\n",
    "electronicpk... electronicpkchain\n",
    "ethereummovi... ethereummovieventure\n",
    "experiencepo... experiencepoints\n",
    "firstbitcoin... firstbitcoincapital\n",
    "globalcurren... globalcurrencyreserve\n",
    "goldpressed... goldpressedlatinum\n",
    "goldrewardt... goldrewardtoken\n",
    "growersinter... growersinternational\n",
    "hackspacecap... hackspacecapital\n",
    "happycreator... happycreatorcoin\n",
    "harvestmaste... harvestmasternodecoin\n",
    "healthmutual... healthmutualsociety\n",
    "highperforma... highperformanceblockchain\n",
    "independentm... independentmoneysystem\n",
    "infinityecon... infinityeconomics\n",
    "intelligentt... intelligenttradingtech\n",
    "international... internationaldiamond\n",
    "internetnode... internetnodetoken\n",
    "internetofp... internetofpeople\n",
    "internetoft... internetofthings\n",
    "interstellar... interstellarholdings\n",
    "lightningbit... lightningbitcoin\n",
    "matrixainet... matrixainetwork\n",
    "measurableda... measurabledatatoken\n",
    "moedaloyalty... moedaloyaltypoints\n",
    "opentrading... opentradingnetwork\n",
    "pabyosicoin... pabyosicoinspecial\n",
    "philosophers... philosopherstones\n",
    "presidentjoh... presidentjohnson\n",
    "profileutili... profileutilitytoken\n",
    "quantumresis... quantumresistantledger\n",
    "raidennetwor... raidennetworktoken\n",
    "rasputinonli... rasputinonlinecoin\n",
    "ripiocredit... ripiocreditnetwork\n",
    "royalkingdom... royalkingdomcoin\n",
    "safeexchange... safeexchangecoin\n",
    "smartinvestm... smartinvestmentfundtoken\n",
    "speedmining... speedminingservice\n",
    "theveganini... theveganinitiative\n",
    "titaniumbloc... titaniumblockchain\n",
    "trinitynetwo... trinitynetworkcredit\n",
    "ultimatesecu... ultimatesecurecash\n",
    "universalcur... universalcurrency\n",
    "universalroya... universalroyalcoin\n",
    "uselessether... uselessethereumtoken\n",
    "virtaunique... virtauniquecoin\n",
    "wavescommuni... wavescommunitytoken'''.split('\\n'))"
   ]
  },
  {
   "cell_type": "code",
   "execution_count": 22,
   "id": "f67cce19",
   "metadata": {},
   "outputs": [
    {
     "data": {
      "text/plain": [
       "77"
      ]
     },
     "execution_count": 22,
     "metadata": {},
     "output_type": "execute_result"
    }
   ],
   "source": [
    "len(dots)"
   ]
  },
  {
   "cell_type": "code",
   "execution_count": null,
   "id": "0ef70491",
   "metadata": {},
   "outputs": [],
   "source": []
  }
 ],
 "metadata": {
  "hide_input": false,
  "kernelspec": {
   "display_name": "Python 3",
   "language": "python",
   "name": "python3"
  },
  "language_info": {
   "codemirror_mode": {
    "name": "ipython",
    "version": 3
   },
   "file_extension": ".py",
   "mimetype": "text/x-python",
   "name": "python",
   "nbconvert_exporter": "python",
   "pygments_lexer": "ipython3",
   "version": "3.8.8"
  },
  "latex_envs": {
   "LaTeX_envs_menu_present": true,
   "autoclose": false,
   "autocomplete": true,
   "bibliofile": "biblio.bib",
   "cite_by": "apalike",
   "current_citInitial": 1,
   "eqLabelWithNumbers": true,
   "eqNumInitial": 1,
   "hotkeys": {
    "equation": "Ctrl-E",
    "itemize": "Ctrl-I"
   },
   "labels_anchors": false,
   "latex_user_defs": false,
   "report_style_numbering": false,
   "user_envs_cfg": false
  },
  "varInspector": {
   "cols": {
    "lenName": 16,
    "lenType": 16,
    "lenVar": 40
   },
   "kernels_config": {
    "python": {
     "delete_cmd_postfix": "",
     "delete_cmd_prefix": "del ",
     "library": "var_list.py",
     "varRefreshCmd": "print(var_dic_list())"
    },
    "r": {
     "delete_cmd_postfix": ") ",
     "delete_cmd_prefix": "rm(",
     "library": "var_list.r",
     "varRefreshCmd": "cat(var_dic_list()) "
    }
   },
   "types_to_exclude": [
    "module",
    "function",
    "builtin_function_or_method",
    "instance",
    "_Feature"
   ],
   "window_display": false
  }
 },
 "nbformat": 4,
 "nbformat_minor": 5
}
