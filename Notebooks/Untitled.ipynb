{
 "cells": [
  {
   "cell_type": "code",
   "execution_count": 1,
   "id": "65e581ce",
   "metadata": {},
   "outputs": [
    {
     "name": "stdout",
     "output_type": "stream",
     "text": [
      "Collecting nbmerge\n",
      "  Downloading nbmerge-0.0.4.tar.gz (7.6 kB)\n",
      "Building wheels for collected packages: nbmerge\n",
      "  Building wheel for nbmerge (setup.py): started\n",
      "  Building wheel for nbmerge (setup.py): finished with status 'done'\n",
      "  Created wheel for nbmerge: filename=nbmerge-0.0.4-py2.py3-none-any.whl size=6413 sha256=8da70b07dffce771d57b55abf9920e89aca4bbd5cd8ea1879c9d293912a6ee42\n",
      "  Stored in directory: c:\\users\\aditya\\appdata\\local\\pip\\cache\\wheels\\2d\\3c\\a9\\8753a8ef327aca9c908d4f150628b87b548e1659ecc5fe1b54\n",
      "Successfully built nbmerge\n",
      "Installing collected packages: nbmerge\n",
      "Successfully installed nbmerge-0.0.4\n"
     ]
    }
   ],
   "source": [
    "!pip install nbmerge"
   ]
  },
  {
   "cell_type": "code",
   "execution_count": 2,
   "id": "6d9cb1b7",
   "metadata": {},
   "outputs": [],
   "source": [
    "!nbmerge Mapping_Mismatched_data.ipynb Data_Cleaning.ipynb Outliers.ipynb Data_Visualizations.ipynb ML.ipynb > Report.ipynb"
   ]
  },
  {
   "cell_type": "code",
   "execution_count": null,
   "id": "0822f481",
   "metadata": {},
   "outputs": [],
   "source": []
  }
 ],
 "metadata": {
  "hide_input": false,
  "kernelspec": {
   "display_name": "Python 3 (ipykernel)",
   "language": "python",
   "name": "python3"
  },
  "language_info": {
   "codemirror_mode": {
    "name": "ipython",
    "version": 3
   },
   "file_extension": ".py",
   "mimetype": "text/x-python",
   "name": "python",
   "nbconvert_exporter": "python",
   "pygments_lexer": "ipython3",
   "version": "3.8.12"
  },
  "latex_envs": {
   "LaTeX_envs_menu_present": true,
   "autoclose": false,
   "autocomplete": true,
   "bibliofile": "biblio.bib",
   "cite_by": "apalike",
   "current_citInitial": 1,
   "eqLabelWithNumbers": true,
   "eqNumInitial": 1,
   "hotkeys": {
    "equation": "Ctrl-E",
    "itemize": "Ctrl-I"
   },
   "labels_anchors": false,
   "latex_user_defs": false,
   "report_style_numbering": false,
   "user_envs_cfg": false
  },
  "varInspector": {
   "cols": {
    "lenName": 16,
    "lenType": 16,
    "lenVar": 40
   },
   "kernels_config": {
    "python": {
     "delete_cmd_postfix": "",
     "delete_cmd_prefix": "del ",
     "library": "var_list.py",
     "varRefreshCmd": "print(var_dic_list())"
    },
    "r": {
     "delete_cmd_postfix": ") ",
     "delete_cmd_prefix": "rm(",
     "library": "var_list.r",
     "varRefreshCmd": "cat(var_dic_list()) "
    }
   },
   "types_to_exclude": [
    "module",
    "function",
    "builtin_function_or_method",
    "instance",
    "_Feature"
   ],
   "window_display": false
  }
 },
 "nbformat": 4,
 "nbformat_minor": 5
}
