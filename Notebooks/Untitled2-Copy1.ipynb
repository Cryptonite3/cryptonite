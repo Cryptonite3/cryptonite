{
 "cells": [
  {
   "cell_type": "code",
   "execution_count": 1,
   "id": "1ff662e4",
   "metadata": {},
   "outputs": [],
   "source": [
    "import pandas as pd"
   ]
  },
  {
   "cell_type": "code",
   "execution_count": 2,
   "id": "e71f8ca9",
   "metadata": {},
   "outputs": [],
   "source": [
    "df = pd.read_csv(\n",
    "    filepath_or_buffer = '../data/all_currencies_table.csv',\n",
    "    index_col = 0\n",
    ")\n",
    "trend = pd.read_csv('../data/cryptocurrency_prices_by_date.csv')\n",
    "re = pd.read_pickle('../Data/Modified_Replace.pkl')"
   ]
  },
  {
   "cell_type": "code",
   "execution_count": 3,
   "id": "945e0491",
   "metadata": {},
   "outputs": [],
   "source": [
    "def rip(l: str):\n",
    "    for i in '()[]./+- ':\n",
    "        l = l.replace(i, '')\n",
    "    return l.lower()"
   ]
  },
  {
   "cell_type": "code",
   "execution_count": 4,
   "id": "b3fe85e3",
   "metadata": {},
   "outputs": [],
   "source": [
    "df['name'] = df.name.apply(rip)\n",
    "trend['currency'] = trend.currency.apply(rip)"
   ]
  },
  {
   "cell_type": "code",
   "execution_count": 5,
   "id": "c2edf34d",
   "metadata": {},
   "outputs": [],
   "source": [
    "df['name'].replace(re, inplace = True)"
   ]
  },
  {
   "cell_type": "code",
   "execution_count": 6,
   "id": "366e6e50",
   "metadata": {
    "run_control": {
     "marked": false
    }
   },
   "outputs": [],
   "source": [
    "l1 = list(df.name)\n",
    "l2 = list(trend.currency.unique())"
   ]
  },
  {
   "cell_type": "code",
   "execution_count": 7,
   "id": "75b34942",
   "metadata": {},
   "outputs": [],
   "source": [
    "t1 = [i for i in l1 if i not in l2]\n",
    "t1.sort()\n",
    "t2 = [i for i in l2 if i not in l1]\n",
    "t2.sort()"
   ]
  },
  {
   "cell_type": "code",
   "execution_count": 8,
   "id": "b4edc975",
   "metadata": {},
   "outputs": [
    {
     "data": {
      "text/plain": [
       "15"
      ]
     },
     "execution_count": 8,
     "metadata": {},
     "output_type": "execute_result"
    }
   ],
   "source": [
    "len(t2)"
   ]
  },
  {
   "cell_type": "code",
   "execution_count": 9,
   "id": "b346a6df",
   "metadata": {
    "cell_style": "split",
    "scrolled": true
   },
   "outputs": [
    {
     "data": {
      "text/plain": [
       "['bitjob',\n",
       " 'blue',\n",
       " 'boat',\n",
       " 'brother',\n",
       " 'cryptoinsight',\n",
       " 'elite',\n",
       " 'getprotocol',\n",
       " 'html5coin',\n",
       " 'iexecrlc',\n",
       " 'matchpool',\n",
       " 'nano',\n",
       " 'rex',\n",
       " 'sono']"
      ]
     },
     "execution_count": 9,
     "metadata": {},
     "output_type": "execute_result"
    }
   ],
   "source": [
    "t1"
   ]
  },
  {
   "cell_type": "code",
   "execution_count": 10,
   "id": "d572708f",
   "metadata": {
    "cell_style": "split",
    "scrolled": true
   },
   "outputs": [
    {
     "data": {
      "text/plain": [
       "['1337coin',\n",
       " 'altcommunitycoin',\n",
       " 'brat',\n",
       " 'doubloon',\n",
       " 'encryptoteleth',\n",
       " 'enigmaproject',\n",
       " 'ethereumblue',\n",
       " 'guppy',\n",
       " 'gutstickets',\n",
       " 'hempcoinhmp',\n",
       " 'raiblocks',\n",
       " 'realestatetokens',\n",
       " 'rlc',\n",
       " 'studentcoin',\n",
       " 'trackr']"
      ]
     },
     "execution_count": 10,
     "metadata": {},
     "output_type": "execute_result"
    }
   ],
   "source": [
    "t2"
   ]
  },
  {
   "cell_type": "code",
   "execution_count": 11,
   "id": "c13515df",
   "metadata": {},
   "outputs": [
    {
     "data": {
      "text/plain": [
       "13"
      ]
     },
     "execution_count": 11,
     "metadata": {},
     "output_type": "execute_result"
    }
   ],
   "source": [
    "len(t1)"
   ]
  },
  {
   "cell_type": "code",
   "execution_count": 12,
   "id": "0f4b88d0",
   "metadata": {},
   "outputs": [
    {
     "data": {
      "text/plain": [
       "{'acceleratorn': 'acceleratornetwork',\n",
       " 'acuteanglec': 'acuteanglecloud',\n",
       " 'advancedinte': 'advancedinternetblocks',\n",
       " 'agrello': 'agrellodelta',\n",
       " 'aidoctor': 'aidoc',\n",
       " 'alphabit': 'alphabitcoinfund',\n",
       " 'altcoin': 'altcoinalt',\n",
       " 'applecoin': 'applecoinapw',\n",
       " 'b2b': 'b2bx',\n",
       " 'basicattenti': 'basicattentiontoken',\n",
       " 'bela': 'belacoin',\n",
       " 'billionairet': 'billionairetoken',\n",
       " 'bitcoinlight': 'bitcoinlightning',\n",
       " 'blockmasoncr': 'blockmason',\n",
       " 'bloom': 'bloomtoken',\n",
       " 'byteballbytes': 'byteball',\n",
       " 'bytecoin': 'bytecoinbcn',\n",
       " 'circuitsofv': 'circuitsofvalue',\n",
       " 'coimatic20': 'coimatic2',\n",
       " 'coimatic30': 'coimatic3',\n",
       " 'coino': 'coin',\n",
       " 'commodityad': 'commodityadnetwork',\n",
       " 'contentanda': 'contentandadnetwork',\n",
       " 'cryptopiafees': 'cryptopiafeeshares',\n",
       " 'cryptoworldx': 'cryptoworldxtoken',\n",
       " 'cthulhuoffer': 'cthulhuofferings',\n",
       " 'decentralized': 'decentralizeduniversalbasicincome',\n",
       " 'denarius': 'denariusdnr',\n",
       " 'digitalbulli': 'digitalbulliongold',\n",
       " 'digitaldevelo': 'digitaldevelopersfund',\n",
       " 'digitalmoney': 'digitalmoneybits',\n",
       " 'dubaicoin': 'dubaicoindbix',\n",
       " 'dynamictradi': 'dynamictradingrights',\n",
       " 'eboost': 'eboostcoin',\n",
       " 'ecc': 'eccoin',\n",
       " 'elcoin': 'elcoinel',\n",
       " 'electronicpk': 'electronicpkchain',\n",
       " 'emeraldcrypto': 'emerald',\n",
       " 'ethereummovi': 'ethereummovieventure',\n",
       " 'experiencepo': 'experiencepoints',\n",
       " 'filecoinfut': 'filecoin',\n",
       " 'gamechainsystem': 'gamechain',\n",
       " 'gamecom': 'game',\n",
       " 'globalcurren': 'globalcurrencyreserve',\n",
       " 'gnosis': 'gnosisgno',\n",
       " 'goldpressed': 'goldpressedlatinum',\n",
       " 'goldrewardt': 'goldrewardtoken',\n",
       " 'golem': 'golemnetworktokens',\n",
       " 'granite': 'granitecoin',\n",
       " 'growersinter': 'growersinternational',\n",
       " 'hackspacecap': 'hackspacecapital',\n",
       " 'happycreator': 'happycreatorcoin',\n",
       " 'harmonycoin': 'harmonycoinhmc',\n",
       " 'harvestmaste': 'harvestmasternodecoin',\n",
       " 'healthmutual': 'healthmutualsociety',\n",
       " 'heat': 'heatledger',\n",
       " 'highperforma': 'highperformanceblockchain',\n",
       " 'independentm': 'independentmoneysystem',\n",
       " 'infinityecon': 'infinityeconomics',\n",
       " 'insanecoin': 'insanecoininsn',\n",
       " 'intelligentt': 'intelligenttradingtech',\n",
       " 'international': 'internationaldiamond',\n",
       " 'internetnode': 'internetnodetoken',\n",
       " 'internetofp': 'internetofpeople',\n",
       " 'internetoft': 'internetofthings',\n",
       " 'interstellar': 'interstellarholdings',\n",
       " 'karbo': 'karbowanec',\n",
       " 'kore': 'korecoin',\n",
       " 'lightningbit': 'lightningbitcoin',\n",
       " 'macro': 'macro1',\n",
       " 'matrixainet': 'matrixainetwork',\n",
       " 'maza': 'mazacoin',\n",
       " 'measurableda': 'measurabledatatoken',\n",
       " 'memeticpep': 'memetic',\n",
       " 'metaverseetp': 'metaverse',\n",
       " 'moedaloyalty': 'moedaloyaltypoints',\n",
       " 'moneta': 'moneta2',\n",
       " 'nebulas': 'nebulastoken',\n",
       " 'opentrading': 'opentradingnetwork',\n",
       " 'pabyosicoin': 'pabyosicoinspecial',\n",
       " 'pandacoin': 'pandacoinpnd',\n",
       " 'paycoin': 'paycoin2',\n",
       " 'peerplays': 'peerplaysppy',\n",
       " 'philosophers': 'philosopherstones',\n",
       " 'presidentjoh': 'presidentjohnson',\n",
       " 'primalbasetoken': 'primalbase',\n",
       " 'profileutili': 'profileutilitytoken',\n",
       " 'quantumresis': 'quantumresistantledger',\n",
       " 'raidennetwor': 'raidennetworktoken',\n",
       " 'rasputinonli': 'rasputinonlinecoin',\n",
       " 'rawcoin': 'rawcoin2',\n",
       " 'ripiocredit': 'ripiocreditnetwork',\n",
       " 'royalkingdom': 'royalkingdomcoin',\n",
       " 'safeexchange': 'safeexchangecoin',\n",
       " 'santimentnet': 'santiment',\n",
       " 'shield': 'shieldxsh',\n",
       " 'smartinvestm': 'smartinvestmentfundtoken',\n",
       " 'socialcoin': 'socialcoinsocc',\n",
       " 'speedmining': 'speedminingservice',\n",
       " 'supernet': 'supernetunity',\n",
       " 'swarm': 'swarmfund',\n",
       " 'tattoocoinl': 'tattoocoinlimited',\n",
       " 'tattoocoins': 'tattoocoin',\n",
       " 'tezosprela': 'tezos',\n",
       " 'theveganini': 'theveganinitiative',\n",
       " 'titaniumbloc': 'titaniumblockchain',\n",
       " 'topazcoin': 'topaz',\n",
       " 'torcoin': 'torcointor',\n",
       " 'tridentgroup': 'trident',\n",
       " 'trinitynetwo': 'trinitynetworkcredit',\n",
       " 'ultimatesecu': 'ultimatesecurecash',\n",
       " 'universalcur': 'universalcurrency',\n",
       " 'universalroya': 'universalroyalcoin',\n",
       " 'uselessether': 'uselessethereumtoken',\n",
       " 'vectorai': 'vector',\n",
       " 'virtaunique': 'virtauniquecoin',\n",
       " 'voise': 'voisecom',\n",
       " 'vsync': 'vsyncvsx',\n",
       " 'wavescommuni': 'wavescommunitytoken',\n",
       " 'womencoin': 'women',\n",
       " 'adex': 'adxnet',\n",
       " 'ambrosus': 'amber',\n",
       " 'ammoreloaded': 'ammorewards',\n",
       " 'atmchain': 'attentiontokenofmedia',\n",
       " 'crypto20': 'c20',\n",
       " 'cryptobullion': 'cryptogenicbullion',\n",
       " 'ebitcoin': 'ebtcnew',\n",
       " 'escroco': 'escoro',\n",
       " 'farstcoin': 'firstbitcoincapital',\n",
       " 'futurxe': 'futurexe',\n",
       " 'g3n': 'genstake',\n",
       " 'gaymoney': 'gaycoin',\n",
       " 'kickcoin': 'kickico',\n",
       " 'lbrycredits': 'librarycredit',\n",
       " 'monoeci': 'monacocoin',\n",
       " 'russianminer': 'russianminingcoin',\n",
       " 'spectreaidi': 'spectredividend',\n",
       " 'spectreaiut': 'spectreutility',\n",
       " 'unitedtrader': 'uttoken',\n",
       " 'wetrust': 'trust',\n",
       " 'zlancer': 'zcashgold',\n",
       " \"miners'rewar\": 'minersrewardtoken'}"
      ]
     },
     "execution_count": 12,
     "metadata": {},
     "output_type": "execute_result"
    }
   ],
   "source": [
    "re"
   ]
  },
  {
   "cell_type": "code",
   "execution_count": null,
   "id": "ace4fc09",
   "metadata": {},
   "outputs": [],
   "source": []
  }
 ],
 "metadata": {
  "hide_input": false,
  "kernelspec": {
   "display_name": "Python 3",
   "language": "python",
   "name": "python3"
  },
  "language_info": {
   "codemirror_mode": {
    "name": "ipython",
    "version": 3
   },
   "file_extension": ".py",
   "mimetype": "text/x-python",
   "name": "python",
   "nbconvert_exporter": "python",
   "pygments_lexer": "ipython3",
   "version": "3.8.8"
  },
  "latex_envs": {
   "LaTeX_envs_menu_present": true,
   "autoclose": false,
   "autocomplete": true,
   "bibliofile": "biblio.bib",
   "cite_by": "apalike",
   "current_citInitial": 1,
   "eqLabelWithNumbers": true,
   "eqNumInitial": 1,
   "hotkeys": {
    "equation": "Ctrl-E",
    "itemize": "Ctrl-I"
   },
   "labels_anchors": false,
   "latex_user_defs": false,
   "report_style_numbering": false,
   "user_envs_cfg": false
  },
  "varInspector": {
   "cols": {
    "lenName": 16,
    "lenType": 16,
    "lenVar": 40
   },
   "kernels_config": {
    "python": {
     "delete_cmd_postfix": "",
     "delete_cmd_prefix": "del ",
     "library": "var_list.py",
     "varRefreshCmd": "print(var_dic_list())"
    },
    "r": {
     "delete_cmd_postfix": ") ",
     "delete_cmd_prefix": "rm(",
     "library": "var_list.r",
     "varRefreshCmd": "cat(var_dic_list()) "
    }
   },
   "types_to_exclude": [
    "module",
    "function",
    "builtin_function_or_method",
    "instance",
    "_Feature"
   ],
   "window_display": false
  }
 },
 "nbformat": 4,
 "nbformat_minor": 5
}
