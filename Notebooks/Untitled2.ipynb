{
 "cells": [
  {
   "cell_type": "code",
   "execution_count": 1,
   "id": "1ff662e4",
   "metadata": {},
   "outputs": [],
   "source": [
    "import pandas as pd"
   ]
  },
  {
   "cell_type": "code",
   "execution_count": 2,
   "id": "e71f8ca9",
   "metadata": {},
   "outputs": [],
   "source": [
    "df = pd.read_csv(\n",
    "    filepath_or_buffer = '../data/all_currencies_table.csv',\n",
    "    index_col = 0\n",
    ")\n",
    "trend = pd.read_csv('../data/cryptocurrency_prices_by_date.csv')\n",
    "re = pd.read_pickle('../Data/Modified_Replace.pkl')"
   ]
  },
  {
   "cell_type": "code",
   "execution_count": 3,
   "id": "945e0491",
   "metadata": {},
   "outputs": [],
   "source": [
    "def rip(l: str):\n",
    "    for i in '()[]./+- ':\n",
    "        l = l.replace(i, '')\n",
    "    return l.lower()"
   ]
  },
  {
   "cell_type": "code",
   "execution_count": 4,
   "id": "b3fe85e3",
   "metadata": {},
   "outputs": [],
   "source": [
    "df['name'] = df.name.apply(rip)\n",
    "trend['currency'] = trend.currency.apply(rip)"
   ]
  },
  {
   "cell_type": "code",
   "execution_count": 5,
   "id": "c2edf34d",
   "metadata": {},
   "outputs": [],
   "source": [
    "df['name'].replace(re, inplace = True)"
   ]
  },
  {
   "cell_type": "code",
   "execution_count": 6,
   "id": "366e6e50",
   "metadata": {
    "run_control": {
     "marked": false
    }
   },
   "outputs": [],
   "source": [
    "l1 = list(df.name)\n",
    "l2 = list(trend.currency.unique())"
   ]
  },
  {
   "cell_type": "code",
   "execution_count": 7,
   "id": "75b34942",
   "metadata": {},
   "outputs": [],
   "source": [
    "t1 = [i for i in l1 if i not in l2]\n",
    "t1.sort()\n",
    "t2 = [i for i in l2 if i not in l1]\n",
    "t2.sort()"
   ]
  },
  {
   "cell_type": "code",
   "execution_count": 8,
   "id": "b4edc975",
   "metadata": {},
   "outputs": [
    {
     "data": {
      "text/plain": [
       "37"
      ]
     },
     "execution_count": 8,
     "metadata": {},
     "output_type": "execute_result"
    }
   ],
   "source": [
    "len(t2)"
   ]
  },
  {
   "cell_type": "code",
   "execution_count": 9,
   "id": "b346a6df",
   "metadata": {
    "cell_style": "split",
    "scrolled": true
   },
   "outputs": [
    {
     "data": {
      "text/plain": [
       "['adex',\n",
       " 'ambrosus',\n",
       " 'ammoreloaded',\n",
       " 'atmchain',\n",
       " 'bitjob',\n",
       " 'blue',\n",
       " 'boat',\n",
       " 'brother',\n",
       " 'crypto20',\n",
       " 'cryptobullion',\n",
       " 'cryptoinsight',\n",
       " 'ebitcoin',\n",
       " 'elite',\n",
       " 'escroco',\n",
       " 'farstcoin',\n",
       " 'futurxe',\n",
       " 'g3n',\n",
       " 'gaymoney',\n",
       " 'getprotocol',\n",
       " 'html5coin',\n",
       " 'iexecrlc',\n",
       " 'kickcoin',\n",
       " 'lbrycredits',\n",
       " 'matchpool',\n",
       " \"miners'rewar\",\n",
       " 'monoeci',\n",
       " 'nano',\n",
       " 'rex',\n",
       " 'russianminer',\n",
       " 'sono',\n",
       " 'spectreaidi',\n",
       " 'spectreaiut',\n",
       " 'unitedtrader',\n",
       " 'wetrust',\n",
       " 'zlancer']"
      ]
     },
     "execution_count": 9,
     "metadata": {},
     "output_type": "execute_result"
    }
   ],
   "source": [
    "t1"
   ]
  },
  {
   "cell_type": "code",
   "execution_count": 10,
   "id": "d572708f",
   "metadata": {
    "cell_style": "split",
    "scrolled": true
   },
   "outputs": [
    {
     "data": {
      "text/plain": [
       "['1337coin',\n",
       " 'adxnet',\n",
       " 'altcommunitycoin',\n",
       " 'amber',\n",
       " 'ammorewards',\n",
       " 'attentiontokenofmedia',\n",
       " 'brat',\n",
       " 'c20',\n",
       " 'cryptogenicbullion',\n",
       " 'doubloon',\n",
       " 'ebtcnew',\n",
       " 'encryptoteleth',\n",
       " 'enigmaproject',\n",
       " 'escoro',\n",
       " 'ethereumblue',\n",
       " 'firstbitcoincapital',\n",
       " 'futurexe',\n",
       " 'gaycoin',\n",
       " 'genstake',\n",
       " 'guppy',\n",
       " 'gutstickets',\n",
       " 'hempcoinhmp',\n",
       " 'kickico',\n",
       " 'librarycredit',\n",
       " 'minersrewardtoken',\n",
       " 'monacocoin',\n",
       " 'raiblocks',\n",
       " 'realestatetokens',\n",
       " 'rlc',\n",
       " 'russianminingcoin',\n",
       " 'spectredividend',\n",
       " 'spectreutility',\n",
       " 'studentcoin',\n",
       " 'trackr',\n",
       " 'trust',\n",
       " 'uttoken',\n",
       " 'zcashgold']"
      ]
     },
     "execution_count": 10,
     "metadata": {},
     "output_type": "execute_result"
    }
   ],
   "source": [
    "t2"
   ]
  },
  {
   "cell_type": "code",
   "execution_count": 31,
   "id": "12baace6",
   "metadata": {},
   "outputs": [],
   "source": [
    "t = {\n",
    "    'adex': 'adxnet',\n",
    "    'ambrosus': 'amber',\n",
    "    'ammoreloaded': 'ammorewards',\n",
    "    'atmchain': 'attentiontokenofmedia',\n",
    "    'crypto20': 'c20',\n",
    "    'cryptobullion': 'cryptogenicbullion',\n",
    "    'ebitcoin': 'ebtcnew',\n",
    "    'escroco': 'escoro',\n",
    "    'farstcoin': 'firstbitcoincapital',\n",
    "    'futurxe': 'futurexe',\n",
    "    'g3n': 'genstake',\n",
    "    'gaymoney': 'gaycoin',\n",
    "    'kickcoin': 'kickico',\n",
    "    'lbrycredits': 'librarycredit',\n",
    "    \"miners'rewar\": 'minersrewardtoken',\n",
    "    'monoeci': 'monacocoin',\n",
    "    'russianminer': 'russianminingcoin',\n",
    "    'spectreaidi': 'spectredividend',\n",
    "    'spectreaiut': 'spectreutility',\n",
    "    'unitedtrader': 'uttoken',\n",
    "    'wetrust': 'trust',\n",
    "    'zlancer': 'zcashgold'\n",
    "}"
   ]
  },
  {
   "cell_type": "code",
   "execution_count": 32,
   "id": "c1b1e2e9",
   "metadata": {},
   "outputs": [
    {
     "data": {
      "text/plain": [
       "141"
      ]
     },
     "execution_count": 32,
     "metadata": {},
     "output_type": "execute_result"
    }
   ],
   "source": [
    "len(re)"
   ]
  },
  {
   "cell_type": "code",
   "execution_count": 33,
   "id": "42728165",
   "metadata": {},
   "outputs": [],
   "source": [
    "re.update(t)"
   ]
  },
  {
   "cell_type": "code",
   "execution_count": 34,
   "id": "2d83285e",
   "metadata": {},
   "outputs": [
    {
     "data": {
      "text/plain": [
       "['escroco', 'html5coin', 'unitedtrader', 'gaymoney', 'farstcoin']"
      ]
     },
     "execution_count": 34,
     "metadata": {},
     "output_type": "execute_result"
    }
   ],
   "source": [
    "list(filter(lambda l: l in t1, list(df.iloc[-361:].name)))"
   ]
  },
  {
   "cell_type": "code",
   "execution_count": 35,
   "id": "9dd10c0c",
   "metadata": {},
   "outputs": [
    {
     "data": {
      "text/plain": [
       "35"
      ]
     },
     "execution_count": 35,
     "metadata": {},
     "output_type": "execute_result"
    }
   ],
   "source": [
    "len(t1)"
   ]
  },
  {
   "cell_type": "code",
   "execution_count": 37,
   "id": "97a0a2f8",
   "metadata": {},
   "outputs": [],
   "source": [
    "pd.to_pickle(obj = re, filepath_or_buffer = '../Data/Modified_Replace.pkl')"
   ]
  },
  {
   "cell_type": "code",
   "execution_count": null,
   "id": "c13515df",
   "metadata": {},
   "outputs": [],
   "source": []
  }
 ],
 "metadata": {
  "hide_input": false,
  "kernelspec": {
   "display_name": "Python 3",
   "language": "python",
   "name": "python3"
  },
  "language_info": {
   "codemirror_mode": {
    "name": "ipython",
    "version": 3
   },
   "file_extension": ".py",
   "mimetype": "text/x-python",
   "name": "python",
   "nbconvert_exporter": "python",
   "pygments_lexer": "ipython3",
   "version": "3.8.8"
  },
  "latex_envs": {
   "LaTeX_envs_menu_present": true,
   "autoclose": false,
   "autocomplete": true,
   "bibliofile": "biblio.bib",
   "cite_by": "apalike",
   "current_citInitial": 1,
   "eqLabelWithNumbers": true,
   "eqNumInitial": 1,
   "hotkeys": {
    "equation": "Ctrl-E",
    "itemize": "Ctrl-I"
   },
   "labels_anchors": false,
   "latex_user_defs": false,
   "report_style_numbering": false,
   "user_envs_cfg": false
  },
  "varInspector": {
   "cols": {
    "lenName": 16,
    "lenType": 16,
    "lenVar": 40
   },
   "kernels_config": {
    "python": {
     "delete_cmd_postfix": "",
     "delete_cmd_prefix": "del ",
     "library": "var_list.py",
     "varRefreshCmd": "print(var_dic_list())"
    },
    "r": {
     "delete_cmd_postfix": ") ",
     "delete_cmd_prefix": "rm(",
     "library": "var_list.r",
     "varRefreshCmd": "cat(var_dic_list()) "
    }
   },
   "types_to_exclude": [
    "module",
    "function",
    "builtin_function_or_method",
    "instance",
    "_Feature"
   ],
   "window_display": false
  }
 },
 "nbformat": 4,
 "nbformat_minor": 5
}
